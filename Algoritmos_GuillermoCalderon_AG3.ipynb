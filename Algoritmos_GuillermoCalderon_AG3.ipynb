{
  "nbformat": 4,
  "nbformat_minor": 0,
  "metadata": {
    "colab": {
      "provenance": [],
      "toc_visible": true,
      "include_colab_link": true
    },
    "kernelspec": {
      "name": "python3",
      "display_name": "Python 3"
    }
  },
  "cells": [
    {
      "cell_type": "markdown",
      "metadata": {
        "id": "view-in-github",
        "colab_type": "text"
      },
      "source": [
        "<a href=\"https://colab.research.google.com/github/guillermocalderon2021/03MIAR_Algoritmos_de_Optimizacion/blob/main/Algoritmos_GuillermoCalderon_AG3.ipynb\" target=\"_parent\"><img src=\"https://colab.research.google.com/assets/colab-badge.svg\" alt=\"Open In Colab\"/></a>"
      ]
    },
    {
      "cell_type": "markdown",
      "source": [
        "#**Actividad guiada 3**\n",
        "## **Nombre:** Guillermo de Jesús Calderón\n",
        "**Repositorio:** https://github.com/guillermocalderon2021/03MIAR_Algoritmos_de_Optimizacion/blob/main/Algoritmos_GuillermoCalderon_AG3.ipynb\n",
        "\n",
        "**Nota:** Se realiza ejercicio para optar a puntuación extra"
      ],
      "metadata": {
        "id": "6dlMl6IyFJHc"
      }
    },
    {
      "cell_type": "markdown",
      "source": [
        "#Carga de librerias"
      ],
      "metadata": {
        "id": "m-gbxt9BFfdN"
      }
    },
    {
      "cell_type": "code",
      "metadata": {
        "id": "qP-Y3Gkfc4vn",
        "colab": {
          "base_uri": "https://localhost:8080/"
        },
        "outputId": "8dca48f3-29cc-4145-cb76-5da9c4dd4785"
      },
      "source": [
        "!pip install requests    #Hacer llamadas http a paginas de la red\n",
        "!pip install tsplib95    #Modulo para las instancias del problema del TSP"
      ],
      "execution_count": 6,
      "outputs": [
        {
          "output_type": "stream",
          "name": "stdout",
          "text": [
            "Requirement already satisfied: requests in /usr/local/lib/python3.10/dist-packages (2.27.1)\n",
            "Requirement already satisfied: urllib3<1.27,>=1.21.1 in /usr/local/lib/python3.10/dist-packages (from requests) (1.26.16)\n",
            "Requirement already satisfied: certifi>=2017.4.17 in /usr/local/lib/python3.10/dist-packages (from requests) (2023.5.7)\n",
            "Requirement already satisfied: charset-normalizer~=2.0.0 in /usr/local/lib/python3.10/dist-packages (from requests) (2.0.12)\n",
            "Requirement already satisfied: idna<4,>=2.5 in /usr/local/lib/python3.10/dist-packages (from requests) (3.4)\n",
            "Collecting tsplib95\n",
            "  Downloading tsplib95-0.7.1-py2.py3-none-any.whl (25 kB)\n",
            "Requirement already satisfied: Click>=6.0 in /usr/local/lib/python3.10/dist-packages (from tsplib95) (8.1.3)\n",
            "Collecting Deprecated~=1.2.9 (from tsplib95)\n",
            "  Downloading Deprecated-1.2.14-py2.py3-none-any.whl (9.6 kB)\n",
            "Collecting networkx~=2.1 (from tsplib95)\n",
            "  Downloading networkx-2.8.8-py3-none-any.whl (2.0 MB)\n",
            "\u001b[2K     \u001b[90m━━━━━━━━━━━━━━━━━━━━━━━━━━━━━━━━━━━━━━━━\u001b[0m \u001b[32m2.0/2.0 MB\u001b[0m \u001b[31m24.8 MB/s\u001b[0m eta \u001b[36m0:00:00\u001b[0m\n",
            "\u001b[?25hRequirement already satisfied: tabulate~=0.8.7 in /usr/local/lib/python3.10/dist-packages (from tsplib95) (0.8.10)\n",
            "Requirement already satisfied: wrapt<2,>=1.10 in /usr/local/lib/python3.10/dist-packages (from Deprecated~=1.2.9->tsplib95) (1.14.1)\n",
            "Installing collected packages: networkx, Deprecated, tsplib95\n",
            "  Attempting uninstall: networkx\n",
            "    Found existing installation: networkx 3.1\n",
            "    Uninstalling networkx-3.1:\n",
            "      Successfully uninstalled networkx-3.1\n",
            "Successfully installed Deprecated-1.2.14 networkx-2.8.8 tsplib95-0.7.1\n"
          ]
        }
      ]
    },
    {
      "cell_type": "markdown",
      "source": [
        "#Carga de los datos del problema"
      ],
      "metadata": {
        "id": "nHRiJhTnFmuV"
      }
    },
    {
      "cell_type": "code",
      "metadata": {
        "id": "mnA47nhtdKOc"
      },
      "source": [
        "import urllib.request #Hacer llamadas http a paginas de la red\n",
        "import tsplib95       #Modulo para las instancias del problema del TSP\n",
        "import math           #Modulo de funciones matematicas. Se usa para exp\n",
        "import random                     #Para generar valores aleatorios\n",
        "import copy\n",
        "\n",
        "#Descargamos el fichero de datos(Matriz de distancias)\n",
        "file = \"swiss42.tsp\" ;\n",
        "urllib.request.urlretrieve(\"http://comopt.ifi.uni-heidelberg.de/software/TSPLIB95/tsp/swiss42.tsp.gz\", file + '.gz')\n",
        "!gzip -d swiss42.tsp.gz     #Descomprimir el fichero de datos\n",
        "\n"
      ],
      "execution_count": 7,
      "outputs": []
    },
    {
      "cell_type": "code",
      "metadata": {
        "id": "RIXYkDWcfmwd"
      },
      "source": [
        "#Carga de datos y generación de objeto problem\n",
        "###############################################################################\n",
        "problem = tsplib95.load(file)\n",
        "\n",
        "#Nodos\n",
        "Nodos = list(problem.get_nodes())\n",
        "\n",
        "#Aristas\n",
        "Aristas = list(problem.get_edges())\n",
        "\n"
      ],
      "execution_count": 8,
      "outputs": []
    },
    {
      "cell_type": "code",
      "metadata": {
        "id": "a7bTofSnn_Jt",
        "colab": {
          "base_uri": "https://localhost:8080/"
        },
        "outputId": "67d1a9a0-ca68-4ee7-f014-de496e995b56"
      },
      "source": [
        "#Probamos algunas funciones del objeto problem\n",
        "\n",
        "#Distancia entre nodos\n",
        "print(problem.get_weight(0, 1))\n",
        "\n",
        "#Todas las funciones\n",
        "#Documentación: https://tsplib95.readthedocs.io/en/v0.6.1/modules.html\n",
        "\n",
        "#dir(problem)\n",
        "#list(problem.get_edges())"
      ],
      "execution_count": 95,
      "outputs": [
        {
          "output_type": "stream",
          "name": "stdout",
          "text": [
            "15\n"
          ]
        }
      ]
    },
    {
      "cell_type": "markdown",
      "source": [
        "#Funciones basicas\n"
      ],
      "metadata": {
        "id": "BpwtaRQIFYvO"
      }
    },
    {
      "cell_type": "code",
      "metadata": {
        "id": "tzrkaBS3gmmz"
      },
      "source": [
        "\n",
        "#Funciones basicas\n",
        "###############################################################################\n",
        "\n",
        "#Se genera una solucion aleatoria con comienzo en en el nodo 0\n",
        "def crear_solucion(Nodos):\n",
        "  solucion = [Nodos[0]]\n",
        "  for n in Nodos[1:]:\n",
        "    solucion = solucion + [random.choice(list(set(Nodos) - set(solucion)))]\n",
        "  return solucion\n",
        "\n",
        "#Devuelve la distancia entre dos nodos\n",
        "def distancia(a,b, problem):\n",
        "  return problem.get_weight(a,b)\n",
        "\n",
        "#Devuelve la distancia total de una trayectoria/solucion\n",
        "def distancia_total(solucion, problem):\n",
        "  distancia_total = 0\n",
        "  for i in range(len(solucion)-1):\n",
        "    distancia_total += distancia(solucion[i] ,solucion[i+1] ,  problem)\n",
        "  return distancia_total + distancia(solucion[len(solucion)-1] ,solucion[0], problem)\n",
        "\n",
        "\n"
      ],
      "execution_count": 96,
      "outputs": []
    },
    {
      "cell_type": "markdown",
      "source": [
        "#BUSQUEDA ALEATORIA"
      ],
      "metadata": {
        "id": "zfwRoUPDYVTr"
      }
    },
    {
      "cell_type": "code",
      "source": [
        "###############################################################################\n",
        "# BUSQUEDA ALEATORIA\n",
        "###############################################################################\n",
        "\n",
        "def busqueda_aleatoria(problem, N):\n",
        "  #N es el numero de iteraciones\n",
        "  Nodos = list(problem.get_nodes())\n",
        "\n",
        "  mejor_solucion = []\n",
        "  #mejor_distancia = 10e100                         #Inicializamos con un valor alto\n",
        "  mejor_distancia = float('inf')                    #Inicializamos con un valor alto\n",
        "\n",
        "  for i in range(N):                                #Criterio de parada: repetir N veces pero podemos incluir otros\n",
        "    solucion = crear_solucion(Nodos)                #Genera una solucion aleatoria\n",
        "    distancia = distancia_total(solucion, problem)  #Calcula el valor objetivo(distancia total)\n",
        "\n",
        "    if distancia < mejor_distancia:                 #Compara con la mejor obtenida hasta ahora\n",
        "      mejor_solucion = solucion\n",
        "      mejor_distancia = distancia\n",
        "\n",
        "\n",
        "  print(\"Mejor solución:\" , mejor_solucion)\n",
        "  print(\"Distancia     :\" , mejor_distancia)\n",
        "  return mejor_solucion\n",
        "\n",
        "\n",
        "#Busqueda aleatoria con 20000 iteraciones\n",
        "solucion = busqueda_aleatoria(problem, 20000)"
      ],
      "metadata": {
        "id": "U7FEJ5OHG2vl",
        "colab": {
          "base_uri": "https://localhost:8080/"
        },
        "outputId": "adef5711-8c52-4208-eab0-968d4255f786"
      },
      "execution_count": 97,
      "outputs": [
        {
          "output_type": "stream",
          "name": "stdout",
          "text": [
            "Mejor solución: [0, 1, 16, 31, 34, 9, 39, 36, 35, 15, 26, 23, 40, 18, 3, 8, 38, 33, 28, 21, 24, 10, 25, 11, 6, 17, 37, 19, 41, 14, 7, 27, 2, 32, 4, 22, 29, 13, 12, 5, 20, 30]\n",
            "Distancia     : 3621\n"
          ]
        }
      ]
    },
    {
      "cell_type": "markdown",
      "source": [
        "#BUSQUEDA LOCAL"
      ],
      "metadata": {
        "id": "gxyEjqm8YZIk"
      }
    },
    {
      "cell_type": "code",
      "source": [
        "###############################################################################\n",
        "# BUSQUEDA LOCAL\n",
        "###############################################################################\n",
        "def genera_vecina(solucion):\n",
        "  #Generador de soluciones vecinas: 2-opt (intercambiar 2 nodos) Si hay N nodos se generan (N-1)x(N-2)/2 soluciones\n",
        "  #Se puede modificar para aplicar otros generadores distintos que 2-opt\n",
        "  #print(solucion)\n",
        "  mejor_solucion = []\n",
        "  mejor_distancia = 10e100\n",
        "  for i in range(1,len(solucion)-1):          #Recorremos todos los nodos en bucle doble para evaluar todos los intercambios 2-opt\n",
        "    for j in range(i+1, len(solucion)):\n",
        "\n",
        "      #Se genera una nueva solución intercambiando los dos nodos i,j:\n",
        "      #  (usamos el operador + que para listas en python las concatena) : ej.: [1,2] + [3] = [1,2,3]\n",
        "      vecina = solucion[:i] + [solucion[j]] + solucion[i+1:j] + [solucion[i]] + solucion[j+1:]\n",
        "\n",
        "      #Se evalua la nueva solución ...\n",
        "      distancia_vecina = distancia_total(vecina, problem)\n",
        "\n",
        "      #... para guardarla si mejora las anteriores\n",
        "      if distancia_vecina <= mejor_distancia:\n",
        "        mejor_distancia = distancia_vecina\n",
        "        mejor_solucion = vecina\n",
        "  return mejor_solucion\n",
        "\n",
        "\n",
        "#solucion = [1, 47, 13, 41, 40, 19, 42, 44, 37, 5, 22, 28, 3, 2, 29, 21, 50, 34, 30, 9, 16, 11, 38, 49, 10, 39, 33, 45, 15, 24, 43, 26, 31, 36, 35, 20, 8, 7, 23, 48, 27, 12, 17, 4, 18, 25, 14, 6, 51, 46, 32]\n",
        "print(\"Distancia Solucion Incial:\" , distancia_total(solucion, problem))\n",
        "\n",
        "\n",
        "nueva_solucion = genera_vecina(solucion)\n",
        "print(\"Distancia Mejor Solucion Local:\", distancia_total(nueva_solucion, problem))\n"
      ],
      "metadata": {
        "colab": {
          "base_uri": "https://localhost:8080/"
        },
        "id": "sOo-N3yIX7bp",
        "outputId": "0d3afa2a-bb7a-47bb-9a41-c4e6c6194e0a"
      },
      "execution_count": 98,
      "outputs": [
        {
          "output_type": "stream",
          "name": "stdout",
          "text": [
            "Distancia Solucion Incial: 3621\n",
            "Distancia Mejor Solucion Local: 3323\n"
          ]
        }
      ]
    },
    {
      "cell_type": "code",
      "source": [
        "#Busqueda Local:\n",
        "#  - Sobre el operador de vecindad 2-opt(funcion genera_vecina)\n",
        "#  - Sin criterio de parada, se para cuando no es posible mejorar.\n",
        "def busqueda_local(problem):\n",
        "  mejor_solucion = []\n",
        "\n",
        "  #Generar una solucion inicial de referencia(aleatoria)\n",
        "  solucion_referencia = crear_solucion(Nodos)\n",
        "  mejor_distancia = distancia_total(solucion_referencia, problem)\n",
        "\n",
        "  iteracion=0             #Un contador para saber las iteraciones que hacemos\n",
        "  while(1):\n",
        "    iteracion +=1         #Incrementamos el contador\n",
        "    #print('#',iteracion)\n",
        "\n",
        "    #Obtenemos la mejor vecina ...\n",
        "    vecina = genera_vecina(solucion_referencia)\n",
        "\n",
        "    #... y la evaluamos para ver si mejoramos respecto a lo encontrado hasta el momento\n",
        "    distancia_vecina = distancia_total(vecina, problem)\n",
        "\n",
        "    #Si no mejoramos hay que terminar. Hemos llegado a un minimo local(según nuestro operador de vencindad 2-opt)\n",
        "    if distancia_vecina < mejor_distancia:\n",
        "      mejor_solucion = copy.deepcopy(vecina)   #Con copia profunda. Las copias en python son por referencia\n",
        "      #mejor_solucion = vecina                   #Guarda la mejor solución encontrada\n",
        "      mejor_distancia = distancia_vecina\n",
        "\n",
        "    else:\n",
        "      print(\"En la iteracion \", iteracion, \", la mejor solución encontrada es:\" , mejor_solucion)\n",
        "      print(\"Distancia     :\" , mejor_distancia)\n",
        "      print(len(mejor_solucion))\n",
        "      return mejor_solucion\n",
        "\n",
        "    solucion_referencia = vecina\n",
        "\n",
        "\n",
        "sol = busqueda_local(problem )"
      ],
      "metadata": {
        "colab": {
          "base_uri": "https://localhost:8080/"
        },
        "id": "2DKvldWcYOU9",
        "outputId": "73a8d0b5-0e3a-4388-d015-2be558507e6b"
      },
      "execution_count": 101,
      "outputs": [
        {
          "output_type": "stream",
          "name": "stdout",
          "text": [
            "En la iteracion  38 , la mejor solución encontrada es: [0, 8, 23, 9, 39, 22, 38, 33, 20, 34, 30, 29, 28, 2, 27, 3, 4, 10, 25, 41, 40, 24, 21, 14, 37, 17, 35, 36, 15, 16, 19, 13, 5, 26, 11, 12, 18, 6, 7, 31, 32, 1]\n",
            "Distancia     : 1893\n",
            "42\n"
          ]
        }
      ]
    },
    {
      "cell_type": "markdown",
      "source": [
        "# **Mejoras al algoritmo**\n",
        "Para mejorar el algoritmo desarrollado en clase se usó la **metaheuristica GRASP**. A continuación se explican las modificaciones realizadas al algoritmo:\n",
        "\n",
        "1. Para generar las soluciones iniciales mediante una estrategia \"voraz\" creamos creamos una lista restringida de candidatos mediante los elementos que cumplan que $x\\le (1-\\alpha) min+\\alpha  max$ con $x\\in [0,1]$.\n",
        "\n",
        "2. Para generar el **multiarranque** creamos 19 soluciones variando el parametro $\\alpha$ desde 0.05 hasta 0.95 con saltos de 0.05. Esto nos permite diversificar sobre zonas del espacio de búsqueda poco o nada visitadas.\n",
        "\n",
        "3. Para intensificar se está realizando una Busqueda de Entorno Variable (VNS) usando consecutivamente tres operadores: a) Intercambio, b) Inserción, c) Reordenamiento (Barajeo)."
      ],
      "metadata": {
        "id": "r7umT2ykVwsN"
      }
    },
    {
      "cell_type": "code",
      "source": [
        "\n",
        "def generar_solucion_grasp(alpha):\n",
        "  solucion = [Nodos[0]]\n",
        "  for n in Nodos[1:]:\n",
        "    solucion = solucion + [random.choice(crear_rcl(alpha,solucion))]\n",
        "  return solucion\n",
        "\n",
        "def crear_rcl(alpha,sol_parcial):\n",
        "  elegibles=list(set(Nodos) - set(sol_parcial))\n",
        "  max_weight=max(list(map(lambda x: problem.get_weight(sol_parcial[-1],x), elegibles)))\n",
        "  min_weight=min(list(map(lambda x: problem.get_weight(sol_parcial[-1],x), elegibles)))\n",
        "  rcl=list(filter(lambda x:  problem.get_weight(sol_parcial[-1],x) <= (1-alpha)*min_weight+alpha*max_weight, elegibles))\n",
        "  return rcl\n",
        "\n",
        "sol=generar_solucion_grasp(0.05)\n",
        "print(sol)\n",
        "print(distancia_total(sol,problem))"
      ],
      "metadata": {
        "colab": {
          "base_uri": "https://localhost:8080/"
        },
        "id": "kNOGItzqVvYP",
        "outputId": "232f83a3-a161-4cd4-e4a1-3d7fc86a1d60"
      },
      "execution_count": 102,
      "outputs": [
        {
          "output_type": "stream",
          "name": "stdout",
          "text": [
            "[0, 1, 4, 2, 27, 28, 30, 29, 8, 9, 23, 41, 10, 25, 11, 12, 18, 26, 5, 6, 3, 7, 14, 16, 15, 37, 17, 31, 20, 33, 34, 32, 38, 22, 39, 21, 40, 24, 13, 19, 36, 35]\n",
            "1671\n"
          ]
        }
      ]
    },
    {
      "cell_type": "code",
      "source": [
        "###############################################################################\n",
        "# BUSQUEDA EN ENTORNOS VARIABLES\n",
        "###############################################################################\n",
        "def genera_vecina(solucion):\n",
        "  #Generador de soluciones vecinas usando 3 operadores: a) Intercambio, b) Insercion, c) Barajeo\n",
        "  mejor_solucion = []\n",
        "  mejor_distancia = 10e100\n",
        "  # SWAP\n",
        "  for i in range(1,len(solucion)-1):          #Recorremos todos los nodos en bucle doble para evaluar todos los intercambios 2-opt\n",
        "    for j in range(i+1, len(solucion)):\n",
        "\n",
        "      #Se genera una nueva solución intercambiando los dos nodos i,j:\n",
        "      #  (usamos el operador + que para listas en python las concatena) : ej.: [1,2] + [3] = [1,2,3]\n",
        "      vecina = solucion[:i] + [solucion[j]] + solucion[i+1:j] + [solucion[i]] + solucion[j+1:]\n",
        "\n",
        "      #Se evalua la nueva solución ...\n",
        "      distancia_vecina = distancia_total(vecina, problem)\n",
        "\n",
        "      #... para guardarla si mejora las anteriores\n",
        "      if distancia_vecina <= mejor_distancia:\n",
        "        mejor_distancia = distancia_vecina\n",
        "        mejor_solucion = vecina\n",
        "  #print(f'{mejor_solucion}-{mejor_distancia} SWAP')\n",
        "  #INSERTIONS\n",
        "  vecina=copy.copy(mejor_solucion)\n",
        "  for i in range(0,len(solucion)):\n",
        "    item=vecina.pop(i)\n",
        "    for j in range(i+1, len(solucion)):\n",
        "      vecina.insert(j,item)\n",
        "       #Se evalua la nueva solución ...\n",
        "      distancia_vecina = distancia_total(vecina, problem)\n",
        "      #print(f'{vecina}-{distancia_vecina}-{mejor_distancia}')\n",
        "      #... para guardarla si mejora las anteriores\n",
        "      if distancia_vecina <= mejor_distancia:\n",
        "        mejor_distancia = distancia_vecina\n",
        "        mejor_solucion = copy.copy(vecina)\n",
        "      vecina.pop(j)\n",
        "    vecina.insert(i,item)\n",
        "  #print(f'{mejor_solucion}-{mejor_distancia}-INSERT')\n",
        "  #BARAJEO\n",
        "  solucion=copy.copy(mejor_solucion)\n",
        "  for i in range(1,len(solucion)):\n",
        "    for j in range(i+1,len(solucion)-1,i+1):\n",
        "      copia=solucion[i:j+1]\n",
        "      vecina=solucion[:i]+ random.sample(copia,len(copia))+solucion[j+1:]\n",
        "      distancia_vecina = distancia_total(vecina, problem)\n",
        "      #... para guardarla si mejora las anteriores\n",
        "      if distancia_vecina <= mejor_distancia:\n",
        "        mejor_distancia = distancia_vecina\n",
        "        mejor_solucion = vecina\n",
        "  #print(f'{mejor_solucion}-{mejor_distancia} REORDER')\n",
        "  return mejor_solucion\n"
      ],
      "metadata": {
        "id": "bHJfGe6vWHMG"
      },
      "execution_count": 103,
      "outputs": []
    },
    {
      "cell_type": "code",
      "source": [
        "#Busqueda en entornos variables:\n",
        "#  - Usando 3 operadores de vecindad : 1)Intercambio, 2) Insercion, 3) Barajeo\n",
        "#  - Sin criterio de parada, se para cuando no es posible mejorar.\n",
        "def busqueda_local_grasp(problem,alpha):\n",
        "  mejor_solucion = []\n",
        "\n",
        "  #Generar una solucion inicial de referencia(aleatoria)\n",
        "  solucion_referencia = crear_solucion(Nodos)\n",
        "  mejor_distancia = distancia_total(solucion_referencia, problem)\n",
        "\n",
        "  iteracion=0             #Un contador para saber las iteraciones que hacemos\n",
        "  while(1):\n",
        "    iteracion +=1         #Incrementamos el contador\n",
        "    #print('#',iteracion)\n",
        "\n",
        "    #Obtenemos la mejor vecina ...\n",
        "    vecina = genera_vecina(solucion_referencia)\n",
        "\n",
        "    #... y la evaluamos para ver si mejoramos respecto a lo encontrado hasta el momento\n",
        "    distancia_vecina = distancia_total(vecina, problem)\n",
        "\n",
        "    #Si no mejoramos hay que terminar. Hemos llegado a un minimo local(según nuestro operador de vencindad 2-opt)\n",
        "    if distancia_vecina < mejor_distancia:\n",
        "      mejor_solucion = copy.deepcopy(vecina)   #Con copia profunda. Las copias en python son por referencia\n",
        "      #mejor_solucion = vecina                   #Guarda la mejor solución encontrada\n",
        "      mejor_distancia = distancia_vecina\n",
        "\n",
        "    else:\n",
        "      print(\"En la iteracion \", iteracion, \", la mejor solución encontrada es:\" , mejor_solucion)\n",
        "      print(\"Distancia     :\" , mejor_distancia)\n",
        "      return mejor_solucion\n",
        "\n",
        "    solucion_referencia = vecina"
      ],
      "metadata": {
        "id": "bIbJDDL3l43r"
      },
      "execution_count": 104,
      "outputs": []
    },
    {
      "cell_type": "code",
      "source": [
        "import numpy as np\n",
        "\n",
        "def solucion_tsp_grasp():\n",
        "  mejor_solucion_global=[]\n",
        "  mejor_distancia_global=float('inf')\n",
        "  mejor_alpha=0\n",
        "  for alfa in np.arange(0.05,1,0.05):\n",
        "    print(f'---------------------- Con alpha = {alfa} --------------------')\n",
        "    sol = busqueda_local_grasp(problem,alfa )\n",
        "    distancia=distancia_total(sol,problem)\n",
        "    if distancia < mejor_distancia_global:\n",
        "      mejor_solucion_global = copy.copy(sol)\n",
        "      mejor_distancia_global = distancia\n",
        "      mejor_alpha=alfa\n",
        "  print('__________________________________________________________________________________________________________')\n",
        "  print(f'MEJOR SOLUCION GLOBAL: {mejor_solucion_global}')\n",
        "  print(f'Encontrada usando alpha = {mejor_alpha} ')\n",
        "  print(f'Distancia: {mejor_distancia_global}')\n",
        "  print('__________________________________________________________________________________________________________')\n",
        "\n",
        "solucion_tsp_grasp()"
      ],
      "metadata": {
        "colab": {
          "base_uri": "https://localhost:8080/"
        },
        "id": "k6m_dtbglvm2",
        "outputId": "5c269228-5221-4f47-de8d-612768bfd363"
      },
      "execution_count": 106,
      "outputs": [
        {
          "output_type": "stream",
          "name": "stdout",
          "text": [
            "---------------------- Con alpha = 0.05 --------------------\n",
            "En la iteracion  18 , la mejor solución encontrada es: [10, 41, 23, 40, 24, 29, 28, 4, 13, 19, 14, 16, 15, 37, 7, 17, 36, 35, 31, 32, 30, 38, 22, 39, 21, 9, 8, 25, 11, 12, 18, 26, 5, 6, 1, 0, 20, 33, 34, 27, 2, 3]\n",
            "Distancia     : 1655\n",
            "---------------------- Con alpha = 0.1 --------------------\n",
            "En la iteracion  18 , la mejor solución encontrada es: [0, 7, 37, 36, 35, 31, 17, 30, 29, 21, 24, 40, 23, 41, 25, 11, 12, 18, 10, 8, 9, 39, 22, 38, 33, 20, 34, 32, 28, 27, 2, 4, 6, 26, 5, 13, 19, 14, 16, 15, 1, 3]\n",
            "Distancia     : 1583\n",
            "---------------------- Con alpha = 0.15000000000000002 --------------------\n",
            "En la iteracion  19 , la mejor solución encontrada es: [28, 30, 38, 22, 39, 21, 24, 40, 8, 14, 16, 15, 37, 20, 33, 34, 32, 1, 6, 5, 13, 19, 7, 31, 35, 36, 17, 0, 27, 29, 9, 23, 41, 10, 25, 11, 12, 18, 26, 4, 3, 2]\n",
            "Distancia     : 1675\n",
            "---------------------- Con alpha = 0.2 --------------------\n",
            "En la iteracion  23 , la mejor solución encontrada es: [4, 6, 1, 0, 7, 17, 31, 20, 33, 34, 38, 22, 24, 40, 23, 41, 9, 21, 39, 30, 32, 35, 36, 37, 15, 16, 14, 19, 13, 5, 26, 18, 12, 11, 25, 10, 8, 29, 28, 27, 2, 3]\n",
            "Distancia     : 1492\n",
            "---------------------- Con alpha = 0.25 --------------------\n",
            "En la iteracion  24 , la mejor solución encontrada es: [0, 32, 8, 10, 25, 11, 12, 18, 13, 19, 37, 17, 31, 36, 35, 20, 33, 34, 38, 24, 40, 23, 41, 9, 21, 39, 22, 30, 29, 28, 27, 2, 3, 4, 7, 15, 16, 14, 5, 26, 6, 1]\n",
            "Distancia     : 1575\n",
            "---------------------- Con alpha = 0.3 --------------------\n",
            "En la iteracion  25 , la mejor solución encontrada es: [2, 8, 21, 24, 40, 23, 41, 10, 25, 11, 12, 18, 13, 19, 14, 16, 15, 37, 7, 1, 6, 5, 26, 4, 3, 0, 32, 35, 36, 17, 31, 20, 33, 34, 38, 22, 39, 9, 29, 30, 28, 27]\n",
            "Distancia     : 1513\n",
            "---------------------- Con alpha = 0.35000000000000003 --------------------\n",
            "En la iteracion  23 , la mejor solución encontrada es: [29, 30, 38, 22, 39, 24, 40, 21, 9, 23, 41, 8, 10, 25, 11, 12, 18, 26, 13, 19, 5, 6, 1, 7, 17, 35, 36, 37, 15, 16, 14, 31, 20, 33, 34, 32, 0, 3, 4, 2, 27, 28]\n",
            "Distancia     : 1407\n",
            "---------------------- Con alpha = 0.4 --------------------\n",
            "En la iteracion  19 , la mejor solución encontrada es: [0, 3, 4, 6, 5, 13, 19, 14, 16, 15, 1, 8, 41, 23, 9, 21, 40, 24, 39, 22, 38, 32, 31, 35, 36, 17, 37, 7, 26, 18, 12, 11, 25, 10, 2, 27, 28, 29, 30, 34, 33, 20]\n",
            "Distancia     : 1614\n",
            "---------------------- Con alpha = 0.45 --------------------\n",
            "En la iteracion  21 , la mejor solución encontrada es: [13, 19, 16, 15, 14, 1, 3, 2, 29, 39, 21, 24, 40, 23, 41, 25, 18, 26, 7, 37, 17, 36, 35, 31, 20, 33, 34, 32, 0, 4, 12, 11, 10, 8, 9, 22, 38, 30, 28, 27, 6, 5]\n",
            "Distancia     : 1625\n",
            "---------------------- Con alpha = 0.5 --------------------\n",
            "En la iteracion  26 , la mejor solución encontrada es: [30, 32, 7, 37, 15, 16, 14, 19, 13, 5, 26, 18, 12, 11, 25, 10, 41, 23, 40, 24, 21, 39, 28, 27, 2, 3, 4, 6, 1, 0, 31, 17, 36, 35, 20, 33, 34, 38, 22, 9, 8, 29]\n",
            "Distancia     : 1448\n",
            "---------------------- Con alpha = 0.55 --------------------\n",
            "En la iteracion  18 , la mejor solución encontrada es: [31, 35, 36, 17, 0, 3, 4, 8, 23, 41, 25, 11, 13, 19, 14, 16, 15, 37, 7, 1, 6, 5, 26, 18, 12, 10, 22, 38, 34, 33, 20, 32, 30, 39, 24, 40, 21, 9, 29, 28, 2, 27]\n",
            "Distancia     : 1683\n",
            "---------------------- Con alpha = 0.6000000000000001 --------------------\n",
            "En la iteracion  19 , la mejor solución encontrada es: [6, 5, 26, 4, 27, 32, 20, 33, 34, 38, 22, 39, 21, 24, 40, 23, 41, 9, 8, 10, 25, 11, 12, 18, 13, 19, 14, 16, 15, 37, 36, 35, 31, 17, 7, 1, 0, 30, 29, 28, 2, 3]\n",
            "Distancia     : 1402\n",
            "---------------------- Con alpha = 0.6500000000000001 --------------------\n",
            "En la iteracion  24 , la mejor solución encontrada es: [20, 35, 36, 31, 17, 37, 15, 16, 14, 19, 13, 5, 6, 1, 7, 0, 32, 30, 29, 8, 9, 23, 41, 10, 25, 11, 12, 18, 26, 4, 3, 27, 2, 28, 39, 21, 40, 24, 22, 38, 34, 33]\n",
            "Distancia     : 1399\n",
            "---------------------- Con alpha = 0.7000000000000001 --------------------\n",
            "En la iteracion  25 , la mejor solución encontrada es: [14, 16, 15, 37, 36, 35, 31, 17, 7, 4, 10, 25, 11, 12, 18, 26, 5, 13, 19, 1, 0, 20, 33, 34, 32, 29, 8, 9, 41, 23, 40, 24, 21, 39, 22, 38, 30, 28, 27, 2, 3, 6]\n",
            "Distancia     : 1515\n",
            "---------------------- Con alpha = 0.7500000000000001 --------------------\n",
            "En la iteracion  21 , la mejor solución encontrada es: [0, 1, 6, 5, 26, 4, 3, 28, 38, 22, 39, 21, 24, 40, 23, 41, 9, 2, 27, 32, 20, 33, 34, 30, 29, 8, 10, 25, 11, 12, 18, 13, 19, 14, 16, 15, 37, 36, 35, 31, 17, 7]\n",
            "Distancia     : 1484\n",
            "---------------------- Con alpha = 0.8 --------------------\n",
            "En la iteracion  22 , la mejor solución encontrada es: [17, 0, 1, 14, 16, 15, 37, 7, 6, 4, 3, 2, 27, 28, 30, 29, 39, 21, 24, 40, 8, 10, 18, 26, 5, 19, 13, 12, 11, 25, 41, 23, 9, 22, 38, 33, 35, 36, 20, 34, 32, 31]\n",
            "Distancia     : 1642\n",
            "---------------------- Con alpha = 0.8500000000000001 --------------------\n",
            "En la iteracion  19 , la mejor solución encontrada es: [14, 16, 15, 37, 36, 35, 31, 17, 7, 1, 0, 30, 22, 38, 33, 20, 34, 32, 2, 10, 12, 11, 25, 41, 23, 40, 24, 21, 39, 9, 8, 29, 28, 27, 3, 4, 6, 5, 26, 18, 13, 19]\n",
            "Distancia     : 1489\n",
            "---------------------- Con alpha = 0.9000000000000001 --------------------\n",
            "En la iteracion  18 , la mejor solución encontrada es: [36, 17, 7, 12, 11, 25, 41, 23, 40, 24, 22, 38, 33, 20, 34, 32, 3, 4, 13, 19, 14, 16, 15, 37, 0, 27, 2, 28, 30, 29, 39, 21, 9, 8, 10, 18, 26, 5, 6, 1, 31, 35]\n",
            "Distancia     : 1655\n",
            "---------------------- Con alpha = 0.9500000000000001 --------------------\n",
            "En la iteracion  22 , la mejor solución encontrada es: [9, 41, 23, 40, 24, 21, 39, 22, 38, 33, 20, 35, 36, 31, 17, 37, 15, 16, 14, 7, 3, 4, 10, 25, 11, 12, 18, 13, 19, 5, 26, 6, 1, 0, 34, 32, 27, 2, 28, 30, 29, 8]\n",
            "Distancia     : 1486\n",
            "__________________________________________________________________________________________________________\n",
            "MEJOR SOLUCION GLOBAL: [20, 35, 36, 31, 17, 37, 15, 16, 14, 19, 13, 5, 6, 1, 7, 0, 32, 30, 29, 8, 9, 23, 41, 10, 25, 11, 12, 18, 26, 4, 3, 27, 2, 28, 39, 21, 40, 24, 22, 38, 34, 33]\n",
            "Encontrada usando alpha = 0.6500000000000001 \n",
            "Distancia: 1399\n",
            "__________________________________________________________________________________________________________\n"
          ]
        }
      ]
    },
    {
      "cell_type": "code",
      "source": [],
      "metadata": {
        "id": "8i62BYMhOqOH"
      },
      "execution_count": null,
      "outputs": []
    }
  ]
}