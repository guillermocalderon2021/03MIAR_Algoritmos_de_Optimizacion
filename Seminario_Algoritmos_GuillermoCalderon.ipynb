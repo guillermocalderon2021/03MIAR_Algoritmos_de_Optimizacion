{
  "nbformat": 4,
  "nbformat_minor": 0,
  "metadata": {
    "colab": {
      "provenance": [],
      "include_colab_link": true
    },
    "kernelspec": {
      "name": "python3",
      "display_name": "Python 3"
    }
  },
  "cells": [
    {
      "cell_type": "markdown",
      "metadata": {
        "id": "view-in-github",
        "colab_type": "text"
      },
      "source": [
        "<a href=\"https://colab.research.google.com/github/guillermocalderon2021/03MIAR_Algoritmos_de_Optimizacion/blob/main/Seminario_Algoritmos_GuillermoCalderon.ipynb\" target=\"_parent\"><img src=\"https://colab.research.google.com/assets/colab-badge.svg\" alt=\"Open In Colab\"/></a>"
      ]
    },
    {
      "cell_type": "markdown",
      "metadata": {
        "id": "hVbXYX-RfPWh"
      },
      "source": [
        "# Algoritmos de optimización - Seminario<br>\n",
        "**Nombre y Apellidos:**  Guillermo de Jesús Calderón <br>\n",
        "Url: <br>\n",
        "Problema:\n",
        "> 1. Sesiones de doblaje <br>\n",
        "\n",
        "\n",
        "###<b>Descripción del problema: </b><br>\n",
        "Se precisa coordinar el doblaje de una película. Los actores del doblaje deben coincidir en las tomas en las que sus personajes aparecen juntos en las diferentes tomas. Los actores de doblaje cobran todos la misma cantidad por cada día que deben desplazarse hasta el estudio de grabación independientemente del número de tomas que se graben. No es posible grabar más de 6 tomas por día. El objetivo es planificar las sesiones por día de manera que se gasto por los servicios de los actores de doblaje sea el menor posible.\n",
        "....\n",
        "\n",
        "(*) La respuesta es obligatoria\n",
        "\n",
        "\n",
        "\n",
        "\n",
        "\n"
      ]
    },
    {
      "cell_type": "markdown",
      "metadata": {
        "id": "3_-exlrTgLd-"
      },
      "source": [
        "###**¿Cuántas posibilidades hay sin tener en cuenta las restricciones?**<br>\n",
        "\n",
        "La **única restricción** que tenemos es el máximo de tomas por día.\n",
        "\n",
        "Si no tenemos en cuenta esta restricción, entonces tenemos una cantidad muy grande de posibilidades para grabar las 30 tomas: se pueden grabar todas las tomas en un mismo día, o bien grabar una toma un día y 29 otro día, o grabar 10 tomas un día, otras 10 tomas otro día y 10 más un último día... o incluso puede grabarse una toma diaria durante 30 días.\n",
        "\n",
        "Para este problema, encontrar el número de posibilidades sin tener en cuenta ninguna restricción es equivalente a encontrar el número de **particiones** posibles en un conjunto de $n=30$ elementos.\n",
        "\n",
        "Para hacer una estimación de ese número de posibilidades vamos a usar el **número de Bell**. En combinatoria, el n-ésimo número de Bell es el número de particiones de un conjunto de n elementos, o equivalentemente, el número de relaciones de equivalencia en el mismo.\n",
        "\n",
        "Los números de Bell satisfacen la siguiente fórmula recursiva:\n",
        "\n",
        "![image.png](data:image/png;base64,iVBORw0KGgoAAAANSUhEUgAAAKgAAAA2CAYAAABTJ9KHAAAQSElEQVR4nO2dfXBM1xvHv/dGaYqJxkuihJAX0nQSEiL4sYuUxmgYLxNNG4mQakmVltLRbF4wbRRNRzVKEEMNETUkRFJ5Q6aTRKq2RrURxGoSZGlKCPae5/eH7m1WdpPdtZuszv3M3JF77nl57j3PPuc55zz34oiIICFho/DtLYCEREtICiph00gKKmHTSAoqYdNICvqMEBGkeab1kBTURIgI8fHx+Oijj6DRaMDzPLp27WpVJRUEAXFxcSaVGTduHC5dumQlidoOSUFNJCEhAQcPHsRXX30FPz8/MMYwd+5cxMfHW6U9xhi6d++OwYMHm1QuOzsbHh4eEATBKnK1GSRhEufPnyelUkn29vbEGCPGGPn4+FBeXp7F2xIEgUaMGEFxcXFmla+srCQvLy/SaDQWlqztkCyoiXh7e6OwsBATJ04Ex3G4ceMGOI5Djx49UFhYaLF2iAh79+6Fh4eHycO7loEDB+Ljjz/G/PnzwRizmGxtiaSgZlBQUIBZs2YBALZs2QIfHx8kJSXBy8vLYm1UVlYiNjYWCQkJ4DjO7Hrmzp0LlUqFrVu3Wky2tkRSUDPw9fXFqFGjAABjx45FVlYWAgIC4OTkZJH6GWNQKBRQKBQYOHCg3utai0hE4jnpmajxPI+YmBjExsaivLzcIvK1Ke3sYkjoITk5mcaMGaPXdwRAAGjEiBFUWVlJ8+bNo6FDh5KXlxfFx8frrY8xRkFBQRQdHU2CIFhbfIsiKaiNIQgCeXp60saNG/VeA0CPHz8mANSrVy86c+YMERFlZGRQ7969DSrg7t27CQCVlJRYVX5L06FdzbcNQv8MmQCg0WigVqtRV1eHuro6s+scOHAgXF1djcpbUFCA6upqTJ8+vdk1nuchl8tFn3Tz5s3w9/cHAFy/fh2Ojo4G12PDwsKwadMmpKenIyAgwMw7aXskBX2K/Px8BAUFAQBkMplJZdVqNWpqaqBWq3XSo6OjjZqkEBHy8vIwceJEuLi46M1TUFCAoqIiABDlJCIcP34cwcHB4Hn90wqe5zFjxgykpKQgPj4eXbp0MeXW2o/2NeC2B2OMVq5cKfp6S5cuJUEQxDXPpoc2XRAEnaO2tpa2bNlCwcHBBIAcHR3pwYMHrbYtCAJ5e3vTmjVrWsyzdu1a8vPzI8YYEREplUoCQCdOnBBl08fRo0cJAO3bt8+8h9MOSAqqB0EQKCgoSFTSPXv2mF2PQqEgALRt27ZW85eXl4uK1lKdkydPpsWLF4tp2jauXbtGM2fOpNLSUr1la2pqCAAtX77c9JtpJyQFNUBpaSm9/PLLBIB69+5Nv/32m9l1VVVV0ZgxYwxaNi0KhYI6duzY4kxbrVaTg4MDZWVliWlJSUkkl8tp+/btBMBgecYYDRo0iPz9/VuVxVYwyQddvnw5rl69CgBwcHCAs7Oz6PP0798fb731Fuzt7Z9pYdlWGDZsGNauXYuFCxeipqYGy5Ytw5EjRwz6eC3Rr18/jB07Frm5uZg0aZLePESE3NxcjBw5ssW6zp07hxkzZmDy5Mli2uzZs3Hjxg3MmzdPDGAxhK+vL9LT09HQ0GDQD83Ly0NRUVGzfnzxxRfR2NiIqKgouLi4mPUsTMWkFoYPH44FCxYgIyMDLi4u8Pf3x6uvvgpvb2+cOnUKHh4euHz5srVkbVM4jsOCBQsQFRUFADh69CgSEhLMjlpas2aNQeUEnihobW0tnJycWvyBjxs3Dtu3b9fJ069fP2zYsAFEBDs7O4NlOY7Da6+9BgCoqKgwmE+tVsPf3x+JiYk4e/YsRo4ciWHDhollXV1dkZaWZrC8RTHV5H7xxRcEgJRKpU56XV0dAaCIiIjnZvgwhtraWvL19RX90czMTKu0o9FoqGPHjhQTE2OV+rV8++23BIAOHDjQYj7txOvw4cM66Ywx8vf3J1dX1zbpZ5MsKBEhOzsbAJrtO58+fRoA0LVr12f+0dgSTk5OUCgU4vlnn32GmzdvWrwdtVqNR48eWWy71BA9evQA0LIFBYCMjAwA0HElAODXX39FeXk5evXqZR0Bn8JkJ0KpVCIwMFBnKPnzzz+RmpqKgIAAxMXF/Sd80KZMmzYNixcvBvDEB1y1apXFA5Srq6sBwOoK6ujoCABobGw0mIeIkJ+fD5lMptPP9+/fR1hYGFxcXPD555+3ST+bNEm6du0a7ty5gxEjRmD9+vV4+PAhNBoNsrOzERsbi8mTJ7eJ42yIrKwsg9caGhp0zkNDQ42ul+d5xMXF4eTJk/jll1+QmpqKoUOH4v3337dYJ9XU1AAAnJ2dLVKfIXr27Nlqnjt37uD06dOIjY1FXFwciAg8zyM9PR3R0dGYM2eOaImBJ8ErHMdZRWFNUtDS0lIAwJtvvolOnTrhwYMHAACVSoXi4mJ4e3tjwIABFhOOMYZt27bh3XffNermy8rKjK6biEx6oI6Ojvj6668REhKC+vp6rFixAj4+Pvjf//5ndB0toVXQzp07W6Q+Q3Tv3r3VPMXFxQCeuHGdOnXCo0ePAAB+fn6orKzE3bt3RQV977338N1330GhUCAhIcHyAhvrrDLGKCIiQgxWaMqVK1cIAEVGRpocLbNv3z69zrZCoaC5c+e2uK7XHqSlpYkTJplMRn///bdF6l29ejUBsEpkflMaGxsJACkUilZlebqfBUGgnj17UmRkpBhpxRgjT09P+v77760ir9HjMREhKyurmf8JPPFNACA3N1evb6YvTUtubq7e9ISEBKSmphorHoB/4ySNOcwlPDwcS5cuBQCsXLnSYpPCjh07AgAePnxokfoMoR31DEFEOHv2LAIDA/WOMI2Njfjhhx/Ec8YYVCoVxo0bZ3FZAROG+KtXr0KtVuOdd95pJvihQ4cAAPPnzwfP84iPj8exY8ewcOFCcByHyMhILF++HOvWrWtWr6XWTa9cuYLIyMgW8zSV+1lez1CpVNi4cWOL65qm4uDgAKC5r2xpbt++3eL1+/fvIycnB9HR0c3mE1u3bsXdu3cRGhoqXrt//z5mz54NJycnfPDBB2CMYdOmTZabixhjZgVBoD179hAAOnLkiBgkodFoaPv27eTq6kqvv/66OBQDoC+//JKmTJlCly9fJo1GozNUNw246NOnT7NgjKbtwoQhXl9Ah6HDHBhjNH/+fFq8eLHF1wD3799PAGjXrl0WrfdpysrKDA7xgiDQiRMnCADFxsbq9MuhQ4fIzc2N5HK5Tn+oVCrKzMykkJAQCgsLI29vb4vK26qC7tu3jzw8PES/6+ljypQplJKSoiN0fHw8hYeH0/r164mIKDMzkyZNmkSMMUpPT6fAwEDy9PSk7t27EwCyt7envn37kq+vL82YMUOsx1QFtSaMMVqxYgVNmzbNKvIcP36cAFBKSopR+QVBII1GY7LPmpOTQwDom2++0UnPz8/X6ddu3brRkCFDaOzYsSSTyUgmk5FCodC5d8YYXbhwgby8vGjdunUmyWEsrSqovnAy7aHRaPRaEm1QQlZWFjHGaNGiRZSamkr5+fnidWtYUGvBGKPk5GQaNmyY1WSpqKggALRhwwaj8svlclGZqqqqjG5n7969BIAKCgp00p/uZ41Go3Oub+Spr68X+2fWrFm0Y8cOg6+dmEurjgLHceB5Xu9hZ2en15FWKpUgInEXYvPmzYiIiEBBQYFYp/Zwd3fXOdfWR0T4+eefAQDl5eXt+tpseno6EhMTUVJSYrZvRa18ImfAgAF44YUXxAlna+Tl5SEsLAyBgYEGg5v1ofVBPTw8dNKf7mc7Ozudc33rnOfOnYNMJgPP87h16xb69++Pc+fOWXQTwyqr6nfu3MGnn34K4MmNHzhwAKmpqXq/vuHm5qa3joSEBEydOhXAk52cxMREa4jaKkVFRZg9ezZu3rxptnIKgoDhw4eLa5364HkegwYNwqVLl4zu4OPHj2PkyJEmrefevn0bffv2Re/evY0uY4ja2lr4+PgAAJKTk3Hy5EkkJSVZdsHeovbYDAytg9oCv//+Ozk7O1NZWZnZdTDG6JNPPqHg4OAW3QNBECgqKorc3d2Neh7a6HhtcLN2iG5NlqCgIJo4caLNPvOnaXcFtVXq6+tpyJAhZi9AM8aooqKCwsPDCQAlJye3Wka7CVBZWdlq3ri4OAJANTU14ioJANq0aZPBMg0NDcTzPC1atMike2lPpJfm9MAYQ2hoKMLCwhAaGqqzuK8d5umfYZjjOHEvura2FkqlEkqlEnl5efjxxx/FOoODg1ttd/jw4QCAkydP6v1gQ1P5ysrK4ObmBo1Ggw4dOuCPP/7A9OnT8dNPPyEmJkZvuSNHjoAxhtGjRxv3IGyB9v6F2BqCIFBkZKTBZTVzjjfeeMPotmUyWasWrqGhgezt7WnSpEniliRjjORyeYvxqvPmzSN3d3dqbGw06Zm0J5IFfYrCwkI4Oztj5cqVeq83nQBo/9aXpv2biDBhwgSj2uZ5HjNnzkRaWhoYYwYnZSUlJXjw4AFycnIwePBglJSUYPTo0eIqiT6ICKdOncLUqVPFbdXngvb+hUjoUlNTQ05OTrR3716DeRITE+mll16ix48f086dO5tNlvRRXFxMAKi4uNgqclsLjkj6frUtQURYtmwZLl68iKysrGZLNvSPRXZwcMDBgwdBROjQoQNOnDiBkpISdOnSRQyubkpERARUKhXy8vKer4Dydv152DC5ubn0yiuvkEKhMGtJRhAESklJMfiOekucPXvWYOiddndNu5deW1tLPXv2pIyMDLKzs6O7d+82K5OdnU0AaOfOnSbL0t7YxVvr29XPOW5ubrh69Sr69OmDwMBAk8oKgoDp06dDpVLhr7/+QkNDAzw9PY0u7+TkhPr6epw5cwYhISHNLF5RURHefvttuLm5oXPnzujUqROSkpKQmZmJAQMG6OQnIixZsgQTJkzAqlWrni/rCUgW1BCMMXJ3d6eLFy+aXDYpKUm0cFqLZ6oVrqqqIhcXF9q9e7fJ7Tdl9+7d5OfnR3V1dc9UT3shfcDWABUVFYiJiYGHh4eOVaJ/9tRbOo4dOya+uqEt19JLavro168f0tLSEB4ejgsXLph1D9rYzNWrVxv1qoctIi0zGSA3NxfdunXD/v37xa+pHD16FElJSRAEARqNRud4/PgxNBoNKisrAfz7Wjb9Mwc9f/68uBBvLOPHj8fhw4cxfvx4VFdXmxQLwBiDXC7HqFGjjNoksFUkBTVATk4OVCoVZs2aBSJCYWEh5HJ5s/fEDXHr1i0A/1pQbcS8qYSEhODy5cuws7MzOoiEiDB+/Hh07twZGzdufP78ziZICqoHxhju3buHXbt2id870v5PG03nlPfu3cP169ehUqnEf7VbolVVVQD+taDu7u5my7NkyRJ8+OGHRufnOA4FBQXPtWJqkRRUD9XV1SgsLISPjw+mTJkC4EmnN1VUQ3Ach/DwcPHLHJcuXULfvn2fWVlMLf9fUE5A+l8+9FJRUYE5c+aA4zgEBASgtLQUCoXCYOB20wMAoqKioFKpwHEcBg0ahB07dvxnFKatkXaSJGwayYJK2DSSgkrYNJKCStg0/wcrJTQW/mvanAAAAABJRU5ErkJggg==)\n",
        "\n",
        "El cálculo del número de Bell para un conjunto de n=30 elementos es bastante engorroso, por lo tanto nos auxuliaremos de un script en Python para calcularlo:"
      ]
    },
    {
      "cell_type": "code",
      "metadata": {
        "id": "iq6Fe32MgpDX",
        "colab": {
          "base_uri": "https://localhost:8080/"
        },
        "outputId": "0a8816b9-3f56-49f3-e9b5-a20fb7a6add4"
      },
      "source": [
        "# Programa para calcular el número de particiones de un conjunto de n elementos\n",
        "n = 30\n",
        "s = [[0 for _ in range(n+1)] for _ in range(n+1)]\n",
        "for i in range(n+1):\n",
        "    for j in range(n+1):\n",
        "        if j > i:\n",
        "            continue\n",
        "        elif(i==j):\n",
        "            s[i][j] = 1\n",
        "        elif(i==0 or j==0):\n",
        "            s[i][j]=0\n",
        "        else:\n",
        "            s[i][j] = j*s[i-1][j] + s[i-1][j-1]\n",
        "ans = 0\n",
        "for i in range(0,n+1):\n",
        "    ans+=s[n][i]\n",
        "print(ans)"
      ],
      "execution_count": null,
      "outputs": [
        {
          "output_type": "stream",
          "name": "stdout",
          "text": [
            "846749014511809332450147\n"
          ]
        }
      ]
    },
    {
      "cell_type": "markdown",
      "source": [
        "Los resultados obtenidos mediante el script indican que hay un total de $ 8.47  \\times\n",
        " 10^{23} $ posibles resultados si no consideramos las restricciones.\n",
        "\n",
        "### **¿Cuántas posibilidades hay teniendo en cuenta todas las restricciones?**\n",
        "\n",
        "La principal restricción del problema es que hay un máximo de 6 tomas que pueden grabarse diariamente. En principio, vamos a asumir que cada día se realizaría ese máximo número de tomas (6), por lo que necesitaríamos 5 días de trabajo para completar las 30 tomas. El problema se transforma entonces en lo siguiente: **¿De cuántas maneras es posible agrupar 30 tomas diferentes en 5 sesiones de 6 tomas de tal manera que cubra las 30 diferentes tomas en los 5 días?**\n",
        "\n",
        "En un calculo combinatorio inicial tendriamos lo siguiente:\n",
        "\n",
        "$$\\binom{30}{6}\\binom{24}{6}\\binom{18}{6}\\binom{12}{6}\\binom{6}{6}=\\frac{30!}{(6!)^{5}}$$\n",
        "\n",
        "Sin embargo, hay que tener en cuenta que el orden de \"los dias\" de grabación es indiferente. Es decir, en una solución pueden intercambiarse las tomas del dia 1 con las del dia 5 sin que eso afecte a la función objetivo. Debido a esta razón, vamos a eliminar ese sobre-conteo diviendo el resultado anterior por el número de permutaciones en que podríamos ordenar los sets de 6 tomas a lo largo de 5 días, o sea , 5!:\n",
        "\n",
        "$$posibilidades= \\frac{30!}{(6!)^{5}*5!} = 1.14 \\times 10^{16} $$\n",
        "\n",
        "\n",
        "\n",
        "\n"
      ],
      "metadata": {
        "id": "S13a34GyylZU"
      }
    },
    {
      "cell_type": "markdown",
      "metadata": {
        "id": "dzynfVJahHoY"
      },
      "source": [
        "## **Modelo para el espacio de soluciones**<br>\n",
        "### **¿Cuál es la estructura de datos que mejor se adapta al problema?**\n",
        "\n",
        "Para representar los datos del problema y de las solucines usaremos la estructura de datos **arreglo** según el siguiente detalle:\n",
        "\n",
        "- **Arreglo de tomas.** Contendrá los datos de las 30 tomas diferentes y en cada toma los detalles de los actores que participan en ellas. La presencia o no de un actor especifico se determina tal como viene definida en el problema (valor 1 ó 0).\n",
        "\n",
        "````\n",
        "tomas = array([[ 1,  1,  1,  1,  1,  0,  0,  0,  0,  0],\n",
        "              [  0,  0,  1,  1,  1,  0,  0,  0,  0,  0],\n",
        "              [  0,  1,  0,  0,  1,  0,  1,  0,  0,  0],\n",
        "              [  1,  1,  0,  0,  0,  0,  1,  1,  0,  0],\n",
        "              [  0,  1,  0,  1,  0,  0,  0,  1,  0,  0],\n",
        "              ...\n",
        "````\n",
        "- **Arreglo de sesiones.** Consiste en un arreglo unidimensional que almacenará las tomas que se grabarán en un solo dia de rodaje. Se obtendrá al ir explorando las diferentes combinaciones de sesiones de 6 tomas (sin repetición y sin importar el orden) a partir del total de tomas disponibles cada día (30 tomas disponibles el 1er día, 24 el 2º, etc.). Por ejemplo, la siguiente sesión contiene las tomas 1, 2, 3, 4, 5 y 6:\n",
        "\n",
        "````\n",
        "sesion = array([ 1,  2,  3,  4,  5,  6])\n",
        "````\n",
        "- **Arreglo de soluciones.** Consiste en un arreglo bidimensional (matriz) con 5 filas (una por sesión) y 6 columnas (una por toma). Por ejemplo, la solución consistente en grabar las tomas de forma ordenada en \"lotes\" de 6 por día se representaría así:\n",
        "\n",
        "````\n",
        "solucion = array ([[ 1,  2,  3,  4,  5,  6]\n",
        "                  [ 7,  8,  9, 10, 11, 12 ]\n",
        "                  [13, 14, 15, 16, 17, 18 ]\n",
        "                  [19, 20, 21, 22, 23, 24 ]\n",
        "                  [25, 26, 27, 28, 29, 30 ]])\n",
        "````\n",
        "\n",
        "**NOTA:** Para facilitar la manipulación de estos arreglos usaremos la libreria NumPy de Python."
      ]
    },
    {
      "cell_type": "markdown",
      "metadata": {
        "id": "7Z9U2W7bi-XS"
      },
      "source": [
        "###**Según el modelo para el espacio de soluciones**<br>\n",
        "**¿Cuál es la función objetivo? ¿Es un problema de maximización o minimización?**\n",
        "\n",
        "Para este problema, la función objectivo es una función lineal que representa la suma de los costos diarios en concepto de pago de los actores que participan en las sesiones en cada día. Dado que el pago diario por actor es una constante ($k$) independiente de la cantidad de tomas grabadas en el día, la función objetivo puede escribirse de la siguiente manera:\n",
        "\n",
        "$$ \\text{Costo total} = min\\left( \\sum_{i=1}^{5} kx_{i} \\right)$$\n",
        "\n",
        "Donde $x_{i}$ es la cantidad de actores que participan en la sesión del i-esimo día y $k$ es el costo unitario por actor y por día (idéntico en nuestro caso para todos los actores y días).\n",
        "\n",
        "Como se ha mencionado anteriormente, este es un **problema de minimización** de esa función de costo. Nos interesa cubrir las 6 tomas de cada día con el número mínimo de actores con el objetivo de que el gasto total incurrido sea el menor posible.\n",
        "\n",
        "A continuación vamos a hacer la carga inicial de datos del problema y vamos a construir la función para calcular el costo asociado a una solución.\n",
        "\n"
      ]
    },
    {
      "cell_type": "code",
      "metadata": {
        "id": "pDA-rg3Gj5Lz"
      },
      "source": [
        "# Carga inicial de librerias\n",
        "import numpy as np\n",
        "import random\n",
        "import time\n",
        "from itertools import *\n",
        "import math"
      ],
      "execution_count": 5,
      "outputs": []
    },
    {
      "cell_type": "code",
      "source": [
        "# Cargando datos de la instancia del problema\n",
        "max_tomas_por_dia=6\n",
        "tomas = np.genfromtxt('datos_tomas.csv', delimiter=',', skip_header = 1, dtype='uint8')\n",
        "tomas=tomas[:-2,:-2] # Quitamos las filas y columnas de los totales\n",
        "rows, columns = tomas.shape\n",
        "dias=math.ceil((rows-1)/max_tomas_por_dia)# Redondeamos hacia arriba para sacar el número de dias de grabación\n",
        "print(tomas)\n",
        "print(dias)"
      ],
      "metadata": {
        "colab": {
          "base_uri": "https://localhost:8080/"
        },
        "id": "RUcqG5Kevf1D",
        "outputId": "c808e21c-557a-48e8-a450-f40bd6d79c98"
      },
      "execution_count": 83,
      "outputs": [
        {
          "output_type": "stream",
          "name": "stdout",
          "text": [
            "[[255   1   2   3   4   5   6   7   8   9  10]\n",
            " [  1   1   1   1   1   1   0   0   0   0   0]\n",
            " [  2   0   0   1   1   1   0   0   0   0   0]\n",
            " [  3   0   1   0   0   1   0   1   0   0   0]\n",
            " [  4   1   1   0   0   0   0   1   1   0   0]\n",
            " [  5   0   1   0   1   0   0   0   1   0   0]\n",
            " [  6   1   1   0   1   1   0   0   0   0   0]\n",
            " [  7   1   1   0   1   1   0   0   0   0   0]\n",
            " [  8   1   1   0   0   0   1   0   0   0   0]\n",
            " [  9   1   1   0   1   0   0   0   0   0   0]\n",
            " [ 10   1   1   0   0   0   1   0   0   1   0]\n",
            " [ 11   1   1   1   0   1   0   0   1   0   0]\n",
            " [ 12   1   1   1   1   0   1   0   0   0   0]\n",
            " [ 13   1   0   0   1   1   0   0   0   0   0]\n",
            " [ 14   1   0   1   0   0   1   0   0   0   0]\n",
            " [ 15   1   1   0   0   0   0   1   0   0   0]\n",
            " [ 16   0   0   0   1   0   0   0   0   0   1]\n",
            " [ 17   1   0   1   0   0   0   0   0   0   0]\n",
            " [ 18   0   0   1   0   0   1   0   0   0   0]\n",
            " [ 19   1   0   1   0   0   0   0   0   0   0]\n",
            " [ 20   1   0   1   1   1   0   0   0   0   0]\n",
            " [ 21   0   0   0   0   0   1   0   1   0   0]\n",
            " [ 22   1   1   1   1   0   0   0   0   0   0]\n",
            " [ 23   1   0   1   0   0   0   0   0   0   0]\n",
            " [ 24   0   0   1   0   0   1   0   0   0   0]\n",
            " [ 25   1   1   0   1   0   0   0   0   0   1]\n",
            " [ 26   1   0   1   0   1   0   0   0   1   0]\n",
            " [ 27   0   0   0   1   1   0   0   0   0   0]\n",
            " [ 28   1   0   0   1   0   0   0   0   0   0]\n",
            " [ 29   1   0   0   0   1   1   0   0   0   0]\n",
            " [ 30   1   0   0   1   0   0   0   0   0   0]]\n",
            "5\n"
          ]
        }
      ]
    },
    {
      "cell_type": "markdown",
      "source": [
        "Primero construiremos una funcion que nos calcule el costo asociado a una sesión diaria de grabación."
      ],
      "metadata": {
        "id": "ix5vCxoD1QvF"
      }
    },
    {
      "cell_type": "code",
      "source": [
        "# Función para calcular el costo asociado a un dia de grabación\n",
        "\n",
        "def calcular_costo_diario(sesion_dia):\n",
        "\t# selecciona del array todas las tomas de la sesión dada, y aplica un OR a todas las columnas a fin de obtener\n",
        "  # una lista con todos los actores de ese día, y simplemente hace la suma (asumimos el coste unitario por actor)\n",
        "\tcost = np.sum(tomas[sesion_dia,1:].any(axis=0))\n",
        "\treturn cost"
      ],
      "metadata": {
        "id": "lAftu58CzDsc"
      },
      "execution_count": 7,
      "outputs": []
    },
    {
      "cell_type": "markdown",
      "source": [
        "Por ejemplo, para calcular el costo asociado a un dia en el que se graben las primeras 6 tomas, ejecutariamos la siguiente instrucción:"
      ],
      "metadata": {
        "id": "a36KD4F62R8d"
      }
    },
    {
      "cell_type": "code",
      "source": [
        "calcular_costo_diario([1,2,3,4,5,6])"
      ],
      "metadata": {
        "colab": {
          "base_uri": "https://localhost:8080/"
        },
        "id": "9R2zCjxO2Qz7",
        "outputId": "ac3b7534-3939-4a64-8f1c-033545d82f57"
      },
      "execution_count": null,
      "outputs": [
        {
          "output_type": "execute_result",
          "data": {
            "text/plain": [
              "7"
            ]
          },
          "metadata": {},
          "execution_count": 16
        }
      ]
    },
    {
      "cell_type": "markdown",
      "source": [
        "A continuación vamos a construir una función que nos permita calcular el costo asociado a una solución completa (la suma de los costos de los 6 días de grabación)."
      ],
      "metadata": {
        "id": "08OC5-4-2xXS"
      }
    },
    {
      "cell_type": "code",
      "source": [
        "# Función que calcula el costo total de una solución\n",
        "def calcular_costo_total(solucion):\n",
        "\tcoste_total = 0\n",
        "\tfor sesion in solucion: # Para cada dia de grabacion (fila de la matriz de soluciones)\n",
        "\t\tcoste = calcular_costo_diario(sesion)\n",
        "\t\tcoste_total += coste\n",
        "\treturn coste_total"
      ],
      "metadata": {
        "id": "UudT-F273A9U"
      },
      "execution_count": 8,
      "outputs": []
    },
    {
      "cell_type": "markdown",
      "source": [
        "Por ejemplo, el costo asociado para la solución en la que se graban las escenas en orden en lotes de 6 se calcularía así:"
      ],
      "metadata": {
        "id": "0sDtrFZy32rl"
      }
    },
    {
      "cell_type": "code",
      "source": [
        "# Generamos arreglo con los numeros del 1 al 30 y lo redimensionamos en una matriz 5x6\n",
        "solucion=np.arange(1,31).reshape(5,6)\n",
        "costo=calcular_costo_total(solucion)\n",
        "print(costo)"
      ],
      "metadata": {
        "colab": {
          "base_uri": "https://localhost:8080/"
        },
        "id": "XmLqlZ5r4KF8",
        "outputId": "0902abf9-6997-4267-cf78-eddcbc0e24a7"
      },
      "execution_count": null,
      "outputs": [
        {
          "output_type": "stream",
          "name": "stdout",
          "text": [
            "38\n"
          ]
        }
      ]
    },
    {
      "cell_type": "markdown",
      "metadata": {
        "id": "rlnTYgY1j6I2"
      },
      "source": [
        "## **Diseña un algoritmo para resolver el problema por fuerza bruta**"
      ]
    },
    {
      "cell_type": "markdown",
      "source": [
        "Una vez teniendo lista la función para calcular el costo asociado a una solución, procedemos a desarrollar un algoritmo para resolver el problema por fuerza bruta el cual\n",
        "iría creando cada una de las posibles soluciones (planes de 5 sesiones de 6 tomas distintas) y evaluando el costo total de cada una de ellas. Hacemos uso de la función ``combinations`` del paquete ``itertools`` para ir generando las diferentes combinaciones de tomas que iremos necesitando en cada día.\n",
        "\n",
        "**NOTA:** Este algoritmo recorre un espacio de soluciones de $1.14 \\times 10^{16}$ elementos por lo que se requeriria de demasiado tiempo para explorar todas esas soluciones. **EJECUTAR CON PRUDENCIA!**"
      ],
      "metadata": {
        "id": "_6RuAyx05xB2"
      }
    },
    {
      "cell_type": "code",
      "metadata": {
        "colab": {
          "base_uri": "https://localhost:8080/",
          "height": 1000
        },
        "outputId": "e92a6de2-274c-43f3-c02f-7f8bfde8eade",
        "id": "FAKvPvOdesw-"
      },
      "source": [
        "def solucion_fuerza_bruta():\n",
        "    coste_minimo=50 # Inicialmente guarda el maximo coste posible (los 10 actores los 5 dias de grabacion)\n",
        "    mejor_solucion=[i for i in range(1, 30+1)] #Solucion inicial\n",
        "    comb1 = combinations(mejor_solucion,6) # O(n!) !!!\n",
        "    for p1 in comb1: # Recorremos las combinaciones (a partir de n=30 elementos)\n",
        "      parcial1=list(set(mejor_solucion)-set(list(p1))) #Quitamos los 6 elementos seleccionados\n",
        "      comb2 = combinations(parcial1,6) # O(n!) !!!\n",
        "      for p2 in comb2: #Recorremos las combinaciones (a partir de n=24 elementos)\n",
        "            parcial2=list(set(parcial1)-set(list(p2))) # Quitamos otros 6 elementos\n",
        "            comb3 = combinations(parcial2,6) # O(n!) !!!\n",
        "            for p3 in comb3: #Recorremos las combinaciones (a partir de n=18 elementos)...\n",
        "              parcial3=list(set(parcial2)-set(list(p3)))\n",
        "              comb4 = combinations(parcial3,6) # O(n!) !!!\n",
        "              for p4 in comb4:\n",
        "                parcial4=list(set(parcial3)-set(list(p4)))\n",
        "                p5=list(set(parcial4)-set(list(p4)))\n",
        "                sol=list(p1)+list(p2)+list(p3)+list(p4)+list(p5) #Armamos la solucion uniendo las partes\n",
        "                current_solution=np.array(sol)\n",
        "                eval_current_solution = calcular_costo_total(current_solution.reshape(5,6))\n",
        "                if eval_current_solution < coste_minimo:\n",
        "                    mejor_solucion = current_solution.reshape(5,6)\n",
        "                    coste_minimo=eval_current_solution\n",
        "                    print(f'La mejor solucion encontrada hasta ahora tiene coste {coste_minimo}')\n",
        "                    print(mejor_solucion)\n",
        "\n",
        "    return mejor_solucion,coste_minimo\n",
        "\n",
        "solucion=solucion_fuerza_bruta()\n",
        "print(f'La solucion encontrada es: {solucion}')"
      ],
      "execution_count": null,
      "outputs": [
        {
          "metadata": {
            "tags": null
          },
          "name": "stdout",
          "output_type": "stream",
          "text": [
            "La mejor solucion encontrada hasta ahora tiene coste 38\n",
            "[[ 1  2  3  4  5  6]\n",
            " [ 7  8  9 10 11 12]\n",
            " [13 14 15 16 17 18]\n",
            " [19 20 21 22 23 24]\n",
            " [25 26 27 28 29 30]]\n",
            "La mejor solucion encontrada hasta ahora tiene coste 37\n",
            "[[ 1  2  3  4  5  6]\n",
            " [ 7  8  9 10 11 12]\n",
            " [13 14 15 16 17 18]\n",
            " [19 20 21 22 23 25]\n",
            " [24 26 27 28 29 30]]\n",
            "La mejor solucion encontrada hasta ahora tiene coste 36\n",
            "[[ 1  2  3  4  5  6]\n",
            " [ 7  8  9 10 11 12]\n",
            " [13 14 15 16 17 18]\n",
            " [19 20 21 23 24 29]\n",
            " [22 25 26 27 28 30]]\n",
            "La mejor solucion encontrada hasta ahora tiene coste 35\n",
            "[[ 1  2  3  4  5  6]\n",
            " [ 7  8  9 10 11 12]\n",
            " [13 14 15 16 17 18]\n",
            " [19 21 23 24 26 29]\n",
            " [20 22 25 27 28 30]]\n",
            "La mejor solucion encontrada hasta ahora tiene coste 34\n",
            "[[ 1  2  3  4  5  6]\n",
            " [ 7  8  9 10 11 12]\n",
            " [13 14 15 16 17 25]\n",
            " [18 19 21 23 24 29]\n",
            " [20 22 26 27 28 30]]\n",
            "La mejor solucion encontrada hasta ahora tiene coste 33\n",
            "[[ 1  2  3  4  5  6]\n",
            " [ 7  8  9 10 11 12]\n",
            " [13 14 15 16 22 25]\n",
            " [17 18 19 21 23 24]\n",
            " [20 26 27 28 29 30]]\n",
            "La mejor solucion encontrada hasta ahora tiene coste 32\n",
            "[[ 1  2  3  4  5  6]\n",
            " [ 7  8  9 10 11 12]\n",
            " [13 14 17 18 20 27]\n",
            " [15 16 22 25 28 30]\n",
            " [19 21 23 24 26 29]]\n",
            "La mejor solucion encontrada hasta ahora tiene coste 31\n",
            "[[ 1  2  3  4  5  6]\n",
            " [ 7  8  9 10 11 12]\n",
            " [13 14 20 26 27 29]\n",
            " [15 16 22 25 28 30]\n",
            " [17 18 19 21 23 24]]\n"
          ]
        },
        {
          "output_type": "error",
          "ename": "KeyboardInterrupt",
          "evalue": "ignored",
          "traceback": [
            "\u001b[0;31m---------------------------------------------------------------------------\u001b[0m",
            "\u001b[0;31mKeyboardInterrupt\u001b[0m                         Traceback (most recent call last)",
            "\u001b[0;32m<ipython-input-8-42bf8744da23>\u001b[0m in \u001b[0;36m<cell line: 28>\u001b[0;34m()\u001b[0m\n\u001b[1;32m     26\u001b[0m     \u001b[0;32mreturn\u001b[0m \u001b[0mmejor_solucion\u001b[0m\u001b[0;34m,\u001b[0m\u001b[0mcoste_minimo\u001b[0m\u001b[0;34m\u001b[0m\u001b[0;34m\u001b[0m\u001b[0m\n\u001b[1;32m     27\u001b[0m \u001b[0;34m\u001b[0m\u001b[0m\n\u001b[0;32m---> 28\u001b[0;31m \u001b[0msolucion\u001b[0m\u001b[0;34m=\u001b[0m\u001b[0msolucion_fuerza_bruta\u001b[0m\u001b[0;34m(\u001b[0m\u001b[0;34m)\u001b[0m\u001b[0;34m\u001b[0m\u001b[0;34m\u001b[0m\u001b[0m\n\u001b[0m\u001b[1;32m     29\u001b[0m \u001b[0mprint\u001b[0m\u001b[0;34m(\u001b[0m\u001b[0;34mf'La solucion encontrada es: {solucion}'\u001b[0m\u001b[0;34m)\u001b[0m\u001b[0;34m\u001b[0m\u001b[0;34m\u001b[0m\u001b[0m\n",
            "\u001b[0;32m<ipython-input-8-42bf8744da23>\u001b[0m in \u001b[0;36msolucion_fuerza_bruta\u001b[0;34m()\u001b[0m\n\u001b[1;32m     13\u001b[0m               \u001b[0mcomb4\u001b[0m \u001b[0;34m=\u001b[0m \u001b[0mcombinations\u001b[0m\u001b[0;34m(\u001b[0m\u001b[0mparcial3\u001b[0m\u001b[0;34m,\u001b[0m\u001b[0;36m6\u001b[0m\u001b[0;34m)\u001b[0m \u001b[0;31m# O(n!) !!!\u001b[0m\u001b[0;34m\u001b[0m\u001b[0;34m\u001b[0m\u001b[0m\n\u001b[1;32m     14\u001b[0m               \u001b[0;32mfor\u001b[0m \u001b[0mp4\u001b[0m \u001b[0;32min\u001b[0m \u001b[0mcomb4\u001b[0m\u001b[0;34m:\u001b[0m\u001b[0;34m\u001b[0m\u001b[0;34m\u001b[0m\u001b[0m\n\u001b[0;32m---> 15\u001b[0;31m                 \u001b[0mparcial4\u001b[0m\u001b[0;34m=\u001b[0m\u001b[0mlist\u001b[0m\u001b[0;34m(\u001b[0m\u001b[0mset\u001b[0m\u001b[0;34m(\u001b[0m\u001b[0mparcial3\u001b[0m\u001b[0;34m)\u001b[0m\u001b[0;34m-\u001b[0m\u001b[0mset\u001b[0m\u001b[0;34m(\u001b[0m\u001b[0mlist\u001b[0m\u001b[0;34m(\u001b[0m\u001b[0mp4\u001b[0m\u001b[0;34m)\u001b[0m\u001b[0;34m)\u001b[0m\u001b[0;34m)\u001b[0m\u001b[0;34m\u001b[0m\u001b[0;34m\u001b[0m\u001b[0m\n\u001b[0m\u001b[1;32m     16\u001b[0m                 \u001b[0mp5\u001b[0m\u001b[0;34m=\u001b[0m\u001b[0mlist\u001b[0m\u001b[0;34m(\u001b[0m\u001b[0mset\u001b[0m\u001b[0;34m(\u001b[0m\u001b[0mparcial4\u001b[0m\u001b[0;34m)\u001b[0m\u001b[0;34m-\u001b[0m\u001b[0mset\u001b[0m\u001b[0;34m(\u001b[0m\u001b[0mlist\u001b[0m\u001b[0;34m(\u001b[0m\u001b[0mp4\u001b[0m\u001b[0;34m)\u001b[0m\u001b[0;34m)\u001b[0m\u001b[0;34m)\u001b[0m\u001b[0;34m\u001b[0m\u001b[0;34m\u001b[0m\u001b[0m\n\u001b[1;32m     17\u001b[0m                 \u001b[0msol\u001b[0m\u001b[0;34m=\u001b[0m\u001b[0mlist\u001b[0m\u001b[0;34m(\u001b[0m\u001b[0mp1\u001b[0m\u001b[0;34m)\u001b[0m\u001b[0;34m+\u001b[0m\u001b[0mlist\u001b[0m\u001b[0;34m(\u001b[0m\u001b[0mp2\u001b[0m\u001b[0;34m)\u001b[0m\u001b[0;34m+\u001b[0m\u001b[0mlist\u001b[0m\u001b[0;34m(\u001b[0m\u001b[0mp3\u001b[0m\u001b[0;34m)\u001b[0m\u001b[0;34m+\u001b[0m\u001b[0mlist\u001b[0m\u001b[0;34m(\u001b[0m\u001b[0mp4\u001b[0m\u001b[0;34m)\u001b[0m\u001b[0;34m+\u001b[0m\u001b[0mlist\u001b[0m\u001b[0;34m(\u001b[0m\u001b[0mp5\u001b[0m\u001b[0;34m)\u001b[0m \u001b[0;31m#Armamos la solucion uniendo las partes\u001b[0m\u001b[0;34m\u001b[0m\u001b[0;34m\u001b[0m\u001b[0m\n",
            "\u001b[0;31mKeyboardInterrupt\u001b[0m: "
          ]
        }
      ]
    },
    {
      "cell_type": "markdown",
      "metadata": {
        "id": "tgrnsC2nkFa8"
      },
      "source": [
        "###**Calcula la complejidad del algoritmo por fuerza bruta**"
      ]
    },
    {
      "cell_type": "markdown",
      "metadata": {
        "id": "9eUd3xwckP68"
      },
      "source": [
        "La función `solucion_fuerza_bruta` utiliza bucles anidados y combinaciones para generar todas las posibles soluciones y encontrar la solución con el menor costo.\n",
        "\n",
        "1. Primero se generan todas las combinaciones posibles de 6 elementos seleccionados de un conjunto de 30 elementos (línea `comb1 = combinations(mejor_solucion, 6)`). Esto tiene una complejidad de O(n!) debido al número exponencial de combinaciones posibles.\n",
        "\n",
        "2. Dentro del primer bucle, se generan todas las combinaciones posibles de 6 elementos seleccionados del conjunto complementario (línea `comb2 = combinations(parcial1, 6)`). Esto también tiene una complejidad de O(n!).\n",
        "\n",
        "3. Dentro del segundo bucle, se generan todas las combinaciones posibles de 6 elementos seleccionados del conjunto complementario (línea `comb3 = combinations(parcial2, 6)`). Esto también tiene una complejidad de O(n!).\n",
        "\n",
        "4. Dentro del tercer bucle, se generan nuevamente todas las combinaciones posibles de 6 elementos seleccionados del conjunto complementario (línea `comb4 = combinations(parcial3, 6)`). Esto también tiene una complejidad de O(n!).\n",
        "\n",
        "En cada bucle, se realizan operaciones de conjuntos y conversiones a listas para construir las soluciones parciales. Luego se calcula el costo total de cada solución parcial utilizando la función `calcular_costo_total`, que se ejecuta en tiempo lineal en función del tamaño de la solución (5 x 6 en este caso).\n",
        "\n",
        "Dado que el bucle más interno tiene una complejidad de O(n!) y se anida dentro de otros bucles con la misma complejidad, podemos decir que el algoritmo tiene una complejidad de ``(n!)^4``; sin embargo, en notación asintótica eso se escribiría como **``O(n!)``** donde n es el tamaño inicial del conjunto (30 en este caso).\n",
        "\n"
      ]
    },
    {
      "cell_type": "markdown",
      "metadata": {
        "id": "txbrmLmskReM"
      },
      "source": [
        "## **Diseña un algoritmo que mejore la complejidad del algortimo por fuerza bruta.**"
      ]
    },
    {
      "cell_type": "markdown",
      "metadata": {
        "id": "hLrVwt5QkZPD"
      },
      "source": [
        "Vamos a resolver este problema mediante la metaheuristicas del recocido simulado\n",
        "\n",
        "### **Solución mediante recocido simulado**\n",
        "El uso de esta metaheuristica en la solución del problema nos permitirá explorar el espacio de búsqueda en diferentes regiones con cierto nivel de aleatoriedad (diversificación) aunque algo más controlado que si se probara únicamente con un algoritmo de búsqueda aleatoria. En cualquier caso, para generar una solución de partida, si que haremos uso de un simple algoritmo de búsqueda aleatoria sobre un número no muy grande de iteraciones.\n",
        "\n",
        "Comencemos programando algunas funciones auxiliares que emplearemos dentro del algoritmo principal:\n"
      ]
    },
    {
      "cell_type": "code",
      "metadata": {
        "id": "m1eyM21Vkabg"
      },
      "source": [
        "#Función para generar una solución aleatoria\n",
        "def generar_solucion_aleatoria():\n",
        "    solucion=np.arange(1,31)\n",
        "    np.random.shuffle(solucion)\n",
        "    return solucion.reshape(5,6)\n",
        "\n",
        "# Función para generar una solución inicial de partida usando Búsqueda Aleatoria\n",
        "def busqueda_aleatoria(n):\n",
        "    # por defecto, coste máximo asumiendo se necesitaran los 10 actores cada día\n",
        "    mejor_coste = 50\n",
        "    mejor_plan = []\n",
        "    for i in range(n):\n",
        "        plan = generar_solucion_aleatoria()\n",
        "        coste=calcular_costo_total(plan)\n",
        "        if coste < mejor_coste:\n",
        "            mejor_coste = coste\n",
        "            mejor_plan = plan\n",
        "    return mejor_plan, mejor_coste\n"
      ],
      "execution_count": 9,
      "outputs": []
    },
    {
      "cell_type": "code",
      "source": [
        "# Función para generar una solución vecina intercambiando 6 tomas aleatoriamente\n",
        "def genera_plan_vecino(solucion):\n",
        "  plan = solucion.flatten()\n",
        "  # Se eligen dos nodos aleatoriamente\n",
        "  i,j,m,n,x,y = sorted(random.sample( range(1,len(plan)) , 6))\n",
        "  # Devuelve una nueva solución pero intercambiando los seis nodos elegidos al azar\n",
        "  plan[i],plan[j]=plan[j],plan[i]\n",
        "  plan[m],plan[n]=plan[n],plan[m]\n",
        "  plan[x],plan[y]=plan[y],plan[x]\n",
        "  # la devuelvo como array en vez de lista, para usarla en mis otras funciones\n",
        "  return np.array(plan).reshape(5,6)\n"
      ],
      "metadata": {
        "id": "KcuxV9WaEv4i"
      },
      "execution_count": 18,
      "outputs": []
    },
    {
      "cell_type": "code",
      "source": [
        "# Funcion de probabilidad para aceptar peores soluciones\n",
        "def probabilidad(T,d):\n",
        "  return random.random() <  math.exp( -1*d / T)"
      ],
      "metadata": {
        "id": "QyTeQuJKM_am"
      },
      "execution_count": 11,
      "outputs": []
    },
    {
      "cell_type": "markdown",
      "source": [
        "El código de la implementación del recocido simulado para este problema es el siguiente:"
      ],
      "metadata": {
        "id": "578imojEoxF9"
      }
    },
    {
      "cell_type": "code",
      "source": [
        "### ALGORITMO PRINCIPAL DE RECOCIDO SIMULADO ###\n",
        "def recocido_simulado(plan_referencia, temperatura):\n",
        "  coste_plan_referencia=calcular_costo_total(plan_referencia)\n",
        "  mejor_coste = 50\n",
        "  print(\"Starting recocido simulado...\")\n",
        "  print(f'Solucion inicial: {plan_referencia} con costo {coste_plan_referencia}')\n",
        "  n=0\n",
        "  while temperatura > .0001:\n",
        "    n+=1\n",
        "    # Genera una solución vecina\n",
        "    plan_vecino = genera_plan_vecino(plan_referencia)\n",
        "\n",
        "    # Calcula su coste\n",
        "    coste_plan_vecino = calcular_costo_total(plan_vecino)\n",
        "\n",
        "    # Si es la mejor solución de todas se guarda\n",
        "    if coste_plan_vecino < mejor_coste:\n",
        "        mejor_plan = plan_vecino.copy()\n",
        "        mejor_coste = coste_plan_vecino\n",
        "        print(f'Solucion con n={n}:\\n {mejor_plan} con costo {mejor_coste}')\n",
        "\n",
        "    # Si es peor se cambia según una probabilidad que depende de T y delta(coste_plan_referencia - coste_plan_vecino))\n",
        "    if coste_plan_vecino < coste_plan_referencia or probabilidad(temperatura, abs(coste_plan_referencia - coste_plan_vecino)) :\n",
        "      plan_referencia = plan_vecino.copy()\n",
        "      coste_plan_referencia = coste_plan_vecino\n",
        "    #Bajamos la temperatura\n",
        "    temperatura = temperatura*0.999\n",
        "  return mejor_plan, mejor_coste"
      ],
      "metadata": {
        "id": "UiAUkeaWIDd8"
      },
      "execution_count": 44,
      "outputs": []
    },
    {
      "cell_type": "markdown",
      "source": [
        "Vamos a aplicar el algoritmo anterior generando aleatoriamente una solución inicial."
      ],
      "metadata": {
        "id": "3r0NjBYNpDw9"
      }
    },
    {
      "cell_type": "code",
      "source": [
        "solucion_inicial=generar_solucion_aleatoria()\n",
        "mejor_plan, coste_mejor_plan  = recocido_simulado(solucion_inicial, 1000)\n",
        "print(\"----------------------------------------------------\")\n",
        "print(\"SOLUCIÓN PROPORCIONADA POR EL ALGORITMO:\\n\\n\", mejor_plan)\n",
        "print(\"\\nCoste:\\n\\n\", coste_mejor_plan, \" salarios\")\n",
        "print(\"----------------------------------------------------\")"
      ],
      "metadata": {
        "colab": {
          "base_uri": "https://localhost:8080/"
        },
        "id": "QZWpMrYaJOdY",
        "outputId": "b76ce92a-910a-4087-bfb7-6e0897900182"
      },
      "execution_count": 57,
      "outputs": [
        {
          "output_type": "stream",
          "name": "stdout",
          "text": [
            "Starting recocido simulado...\n",
            "Solucion inicial: [[27  5 22  4 15  3]\n",
            " [21  9 28 30 23 16]\n",
            " [25 11 12  1  6 13]\n",
            " [18 19 17 24 29  8]\n",
            " [ 7 10 14 26 20  2]] con costo 34\n",
            "Solucion con n=1:\n",
            " [[27 22  5  4 15  3]\n",
            " [21  9 12 30 23 16]\n",
            " [25 11 28  1  6 13]\n",
            " [18 19 17 24 29 14]\n",
            " [ 7 10  8 26 20  2]] con costo 32\n",
            "Solucion con n=7968:\n",
            " [[27 28 19  5 21  6]\n",
            " [ 7  2  1 26 13 20]\n",
            " [25  9 30 16  8 10]\n",
            " [14 18 23 12 22 24]\n",
            " [29  4 15 11  3 17]] con costo 31\n",
            "Solucion con n=8150:\n",
            " [[27  6  7  5 16 25]\n",
            " [13 28  2 26 20 30]\n",
            " [ 1 17 12 10  9 19]\n",
            " [24 23 18  8 22 14]\n",
            " [ 4 15 21 29 11  3]] con costo 30\n",
            "Solucion con n=8163:\n",
            " [[27  6  7  5 16 25]\n",
            " [30 28  2 26 20  1]\n",
            " [13  9 12 10  8 22]\n",
            " [24 23 18 17 19 14]\n",
            " [ 4 29 21 15 11  3]] con costo 29\n",
            "Solucion con n=8206:\n",
            " [[27 16  7 13  6 25]\n",
            " [30  9 26 28 20 22]\n",
            " [ 1  2  5 10 11 12]\n",
            " [24 23 18 17 14 19]\n",
            " [ 8 29  3 21  4 15]] con costo 28\n",
            "Solucion con n=8281:\n",
            " [[27 25 13 16  6  7]\n",
            " [30 26  9 12 22 10]\n",
            " [11  1  2 20  5 28]\n",
            " [19 14 18 17 23 24]\n",
            " [29  8  3 15 21  4]] con costo 27\n",
            "----------------------------------------------------\n",
            "SOLUCIÓN PROPORCIONADA POR EL ALGORITMO:\n",
            "\n",
            " [[27 25 13 16  6  7]\n",
            " [30 26  9 12 22 10]\n",
            " [11  1  2 20  5 28]\n",
            " [19 14 18 17 23 24]\n",
            " [29  8  3 15 21  4]]\n",
            "\n",
            "Coste:\n",
            "\n",
            " 27  salarios\n",
            "----------------------------------------------------\n"
          ]
        }
      ]
    },
    {
      "cell_type": "markdown",
      "metadata": {
        "id": "eGDB4K6uk1iN"
      },
      "source": [
        "### **Calcula la complejidad del algoritmo**"
      ]
    },
    {
      "cell_type": "markdown",
      "metadata": {
        "id": "NhpTh_BPk1ms"
      },
      "source": [
        "Para calcular la complejidad del algoritmo construido con base en la metaheuristica \"recocido simulado\" vamos a analizar cada función por aparte:\n",
        "\n",
        "- Función `generar_solucion_aleatoria()`: Esta función hace una invocación a `np.random.shuffle()`, que realiza un cambio aleatorio en los elementos de la matriz. La complejidad de `np.random.shuffle()` es O(N), donde N es el número de elementos en la matriz. Por lo tanto, la complejidad de `generar_solucion_aleatoria()` es O(N).\n",
        "\n",
        "- Función `recocido_simulado()`: La complejidad de este algoritmo depende del número de iteraciones en el bucle `while`. La condición de parada del bucle es que la temperatura sea mayor que 0.0001, y la temperatura se reduce en cada iteración multiplicándola por 0.999. Este modo de descenso de temperatura se denomina descenso exponencial. La complejidad de este componente sería $O(log(n))$. Por otra parte, dentro del bucle se realizan repetidamente una serie de operaciones, entre ellas la más importante quizás sea la generación de la solución vecina, que presenta una complejidad constante  y el cálculo del costo de la solución que tiene una complejidad de $O(n)$.\n",
        "\n",
        "Por tanto, la complejidad del algoritmo sería:\n",
        "\n",
        "$$O(n*log(n))$$\n",
        "."
      ]
    },
    {
      "cell_type": "markdown",
      "metadata": {
        "id": "3M6QjTsSkmYe"
      },
      "source": [
        "## **Según el problema, diseña un juego de datos de entrada aleatorios**"
      ]
    },
    {
      "cell_type": "markdown",
      "metadata": {
        "id": "Jc3_OlyNkvjZ"
      },
      "source": [
        "Vamos a generar una nueva instancia del problema para posteriormente aplicar el algoritmo."
      ]
    },
    {
      "cell_type": "code",
      "metadata": {
        "id": "sJ-N2etjkyWc",
        "colab": {
          "base_uri": "https://localhost:8080/"
        },
        "outputId": "d85fb0be-f272-40af-b44a-2aaafb22888d"
      },
      "source": [
        "tomas = np.random.randint(2, size=(31, 11))\n",
        "print(tomas)"
      ],
      "execution_count": 97,
      "outputs": [
        {
          "output_type": "stream",
          "name": "stdout",
          "text": [
            "[[0 0 1 1 1 1 0 1 1 1 1]\n",
            " [0 0 0 0 1 0 1 1 0 1 0]\n",
            " [0 1 1 1 0 0 1 0 1 1 0]\n",
            " [1 1 0 1 0 1 1 1 1 1 0]\n",
            " [1 1 1 0 0 0 1 1 1 1 0]\n",
            " [0 1 0 0 1 0 1 1 1 0 0]\n",
            " [1 1 1 1 0 1 0 1 0 1 1]\n",
            " [0 1 0 0 0 0 1 1 0 0 1]\n",
            " [0 1 0 0 0 1 0 1 0 1 0]\n",
            " [0 1 1 1 0 0 0 0 0 1 0]\n",
            " [1 1 1 0 0 1 1 1 0 0 1]\n",
            " [1 1 0 0 0 0 0 0 0 1 1]\n",
            " [1 0 0 1 0 1 1 1 1 1 0]\n",
            " [0 1 0 1 0 0 0 0 0 0 0]\n",
            " [1 0 0 1 0 0 0 1 0 1 0]\n",
            " [0 1 0 1 0 0 0 0 1 1 0]\n",
            " [1 1 0 1 0 1 1 1 1 0 0]\n",
            " [1 1 0 1 1 1 1 1 1 0 0]\n",
            " [1 0 0 1 0 0 1 0 0 1 1]\n",
            " [0 0 0 0 1 0 0 0 1 0 0]\n",
            " [1 1 0 0 1 0 0 1 0 1 0]\n",
            " [0 1 0 0 0 0 1 0 1 0 0]\n",
            " [0 0 1 0 0 0 0 0 1 1 0]\n",
            " [0 0 0 0 1 0 1 0 1 1 1]\n",
            " [0 1 1 1 1 0 0 1 0 1 0]\n",
            " [0 0 1 1 1 1 0 0 0 1 0]\n",
            " [0 1 1 1 1 0 1 1 0 1 1]\n",
            " [1 0 1 0 0 1 1 1 1 1 1]\n",
            " [1 1 1 0 0 0 0 0 1 0 0]\n",
            " [1 0 1 0 1 1 1 0 0 1 0]\n",
            " [1 1 1 1 0 0 1 0 1 1 1]]\n"
          ]
        }
      ]
    },
    {
      "cell_type": "markdown",
      "metadata": {
        "id": "zy5ZROmjlGo1"
      },
      "source": [
        "## **Aplica el algoritmo al juego de datos generado**"
      ]
    },
    {
      "cell_type": "markdown",
      "metadata": {
        "id": "_Cmj-PVylMsa"
      },
      "source": [
        "Aplicando el algoritmo a los datos de la nueva instancia, se obtienen los siguientes resultados:"
      ]
    },
    {
      "cell_type": "code",
      "metadata": {
        "id": "Jkx8GeiYlUz1",
        "colab": {
          "base_uri": "https://localhost:8080/"
        },
        "outputId": "75b7a83f-efea-4825-80d8-e00fc75a4d7a"
      },
      "source": [
        "solucion_inicial=generar_solucion_aleatoria()\n",
        "mejor_plan, coste_mejor_plan  = recocido_simulado(solucion_inicial, 1000)\n",
        "print(\"----------------------------------------------------\")\n",
        "print(\"SOLUCIÓN PROPORCIONADA POR EL ALGORITMO:\\n\\n\", mejor_plan)\n",
        "print(\"\\nCoste:\\n\\n\", coste_mejor_plan, \" salarios\")\n",
        "print(\"----------------------------------------------------\")"
      ],
      "execution_count": 98,
      "outputs": [
        {
          "output_type": "stream",
          "name": "stdout",
          "text": [
            "Starting recocido simulado...\n",
            "Solucion inicial: [[19 22  7 18 15  5]\n",
            " [13 21  4  2 25 29]\n",
            " [10 27  8  9 28 23]\n",
            " [26 20 24  3  6 30]\n",
            " [16 12 14 17 11  1]] con costo 47\n",
            "Solucion con n=1:\n",
            " [[19 22  7 18 27  5]\n",
            " [13 21  4  2 25 29]\n",
            " [10 15  8  9 28 23]\n",
            " [24 20 26  3 30  6]\n",
            " [16 12 14 17 11  1]] con costo 48\n",
            "Solucion con n=12:\n",
            " [[19  7 18  4  2 20]\n",
            " [21 23 29 25 10  5]\n",
            " [22  6 27 30  8 12]\n",
            " [13 15 28  9  1 17]\n",
            " [16 24 11 14 26  3]] con costo 47\n",
            "Solucion con n=135:\n",
            " [[19  7 30 20 14  1]\n",
            " [ 8 16  6 15 18  3]\n",
            " [28 12 26 29 23 11]\n",
            " [24 13 21  2  5  9]\n",
            " [17 27 25 10  4 22]] con costo 46\n",
            "Solucion con n=136:\n",
            " [[19  7 18 20 14  1]\n",
            " [ 8 16  6 15 30  3]\n",
            " [28 12 26 23 29 11]\n",
            " [24 13  5  2 21  9]\n",
            " [17 27 25 10  4 22]] con costo 45\n",
            "Solucion con n=7350:\n",
            " [[19 15 20 13 11 14]\n",
            " [18  7  4  2 30 23]\n",
            " [ 1  5  9 24 25 29]\n",
            " [12 27 10  6 26 21]\n",
            " [ 8 28 16 22  3 17]] con costo 44\n",
            "Solucion con n=8037:\n",
            " [[19  5  1 14 17  3]\n",
            " [29  2 27 23 12  4]\n",
            " [ 7 10 25 18 26  6]\n",
            " [20 24 22  9 28 15]\n",
            " [16 13 11 30  8 21]] con costo 43\n",
            "Solucion con n=8240:\n",
            " [[19  5 16 17  8 12]\n",
            " [ 4 23 10 27 29  1]\n",
            " [11 25 26  7  6  3]\n",
            " [14  2 20  9 24 22]\n",
            " [13 30 21 28 15 18]] con costo 42\n",
            "Solucion con n=8602:\n",
            " [[19 12 17 16  8  5]\n",
            " [23 26  7  9  4 24]\n",
            " [29 27 10  3  6 25]\n",
            " [18 20 11 14  1 13]\n",
            " [28 15 30 22  2 21]] con costo 41\n",
            "Solucion con n=11208:\n",
            " [[19 13 14 16 17  3]\n",
            " [ 7  5 11  4  1 23]\n",
            " [26 24 29 25  6 20]\n",
            " [10 30  8 27 12 18]\n",
            " [15 28 22  2 21  9]] con costo 40\n",
            "Solucion con n=16105:\n",
            " [[19 12  3 17  8 16]\n",
            " [23 20  1 21  5 11]\n",
            " [25 24 26 14 29  6]\n",
            " [27  7 10  4 22 28]\n",
            " [ 9  2 13 18 15 30]] con costo 39\n",
            "----------------------------------------------------\n",
            "SOLUCIÓN PROPORCIONADA POR EL ALGORITMO:\n",
            "\n",
            " [[19 12  3 17  8 16]\n",
            " [23 20  1 21  5 11]\n",
            " [25 24 26 14 29  6]\n",
            " [27  7 10  4 22 28]\n",
            " [ 9  2 13 18 15 30]]\n",
            "\n",
            "Coste:\n",
            "\n",
            " 39  salarios\n",
            "----------------------------------------------------\n"
          ]
        }
      ]
    },
    {
      "cell_type": "markdown",
      "metadata": {
        "id": "eTFWUJQrtGcv"
      },
      "source": [
        "### **Enumera las referencias que has utilizado para llevar a cabo el trabajo**"
      ]
    },
    {
      "cell_type": "markdown",
      "metadata": {
        "id": "YKQ_mRBttWsP"
      },
      "source": [
        "1. Long, Xiaoqing & Jinxing, Zhao. (2020). Scheduling Problem of Movie Scenes Based on Three Meta-Heuristic Algorithms. IEEE Access. PP. 1-1. 10.1109/ACCESS.2020.2982664.\n",
        "2. Yulian Liu, Qiuji Sun, Xiaotian Zhang, Yiwei Wu, \"Research on the Scheduling Problem of Movie Scenes\", Discrete Dynamics in Nature and Society, vol. 2019, Article ID 3737105, 8 pages, 2019. https://doi.org/10.1155/2019/3737105\n",
        "3. T. Cheng, J. Diamond, and B. Lin. Optimal scheduling in film production to minimize talent hold cost. Journal of Optimization Theory and Applications, 79(3):479–492, 1993."
      ]
    },
    {
      "cell_type": "markdown",
      "metadata": {
        "id": "kAkDPUyRtYyH"
      },
      "source": [
        "### **Describe brevemente las lineas de como crees que es posible avanzar en el estudio del problema. Ten en cuenta incluso posibles variaciones del problema y/o variaciones al alza del tamaño**"
      ]
    },
    {
      "cell_type": "markdown",
      "metadata": {
        "id": "IE0uZmo-tZu-"
      },
      "source": [
        "Este problema de asignación podría apliarse agregando nuevas restricciones, por ejemplo, diferentes salarios para cada autor. En este caso, la función objetivo tendría que ser evaluada teniendo en cuenta cuáles actores específicos estarían participando en una sesión de grabación. Otra restricción, un poco poco más díficil de abordar podría ser la disponibilidad horaria de cada actor.\n",
        "\n",
        "En cuanto al uso de metaheuristicas para resolver este problema, consideramos que un algoritmo multiarranque basado en GRASP podría dar buenos resultados pues realizaría una búsqueda ya no tan a ciegas, sino usando la información del dominio del problema.\n",
        "\n"
      ]
    }
  ]
}