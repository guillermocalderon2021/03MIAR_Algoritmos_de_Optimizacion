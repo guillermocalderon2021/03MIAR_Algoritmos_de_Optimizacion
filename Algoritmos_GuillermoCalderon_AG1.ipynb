{
  "nbformat": 4,
  "nbformat_minor": 0,
  "metadata": {
    "colab": {
      "provenance": []
    },
    "kernelspec": {
      "name": "python3",
      "display_name": "Python 3"
    },
    "language_info": {
      "name": "python"
    }
  },
  "cells": [
    {
      "cell_type": "markdown",
      "source": [
        "#Actividad guiada 1\n",
        "## **Nombre:** Guillermo de Jesús Calderón\n",
        "**Repositorio:** https://github.com/guillermocalderon2021/03MIAR_Algoritmos_de_Optimizacion"
      ],
      "metadata": {
        "id": "mHRhIVVi29F-"
      }
    },
    {
      "cell_type": "markdown",
      "source": [
        "### **Ejemplo 1:** Torres de Hanoi mediante \"divide y venceras\""
      ],
      "metadata": {
        "id": "4big1Vu3jaR2"
      }
    },
    {
      "cell_type": "code",
      "execution_count": 2,
      "metadata": {
        "colab": {
          "base_uri": "https://localhost:8080/"
        },
        "id": "iwVNTsqp2zOt",
        "outputId": "9ee9c69e-1b23-4d61-e6e8-6d8eed354e39"
      },
      "outputs": [
        {
          "output_type": "stream",
          "name": "stdout",
          "text": [
            "Mover bloque desde 1 a 2\n",
            "Mover bloque desde 1 a 3\n",
            "Mover bloque desde 2 a 3\n",
            "Mover bloque desde 1 a 2\n",
            "Mover bloque desde 3 a 1\n",
            "Mover bloque desde 3 a 2\n",
            "Mover bloque desde 1 a 2\n",
            "Mover bloque desde 1 a 3\n",
            "Mover bloque desde 2 a 3\n",
            "Mover bloque desde 2 a 1\n",
            "Mover bloque desde 3 a 1\n",
            "Mover bloque desde 2 a 3\n",
            "Mover bloque desde 1 a 2\n",
            "Mover bloque desde 1 a 3\n",
            "Mover bloque desde 2 a 3\n"
          ]
        }
      ],
      "source": [
        "def torres_hanoi(n,origen,destino,pivote):\n",
        "  if n==1: # Caso base\n",
        "    print(f'Mover bloque desde {origen} a {destino}')\n",
        "    return\n",
        "  torres_hanoi(n-1,origen,pivote,destino) # Movemos de origen a pivote\n",
        "  print(f'Mover bloque desde {origen} a {destino}')\n",
        "  torres_hanoi(n-1,pivote,destino,origen) # Movemos de pivote a destino\n",
        "\n",
        "torres_hanoi(4,1,3,2)\n"
      ]
    },
    {
      "cell_type": "markdown",
      "source": [
        "### **Ejemplo 2:** Cambio de moneda mediante algoritmo voraz"
      ],
      "metadata": {
        "id": "CzvVrIK8mOLd"
      }
    },
    {
      "cell_type": "code",
      "source": [
        "def cambio_moneda(cantidad,sistema):\n",
        "  print(f'Sistema: {sistema}')\n",
        "  solucion=[0 for i in range(len(sistema)) ] # Inicializando el arreglo de soluciones\n",
        "  valor_acumulado=0\n",
        "  for i in range(len(sistema)): # Recorremos el sistema\n",
        "    monedas=int((cantidad-valor_acumulado)/sistema[i])\n",
        "    solucion[i]=monedas\n",
        "    valor_acumulado+=monedas*sistema[i] # Actualizamos el valor acumulado\n",
        "    if valor_acumulado==cantidad:break # Si el valor acumulado es igual a la cantidad nos salimos del for\n",
        "  return dict(zip(sistema,solucion)) # Retornamos un diccionario. Las keys son las denominaciones, los values son el numero de monedas a usar\n",
        "\n",
        "sistema=[25,10,5,1]\n",
        "cambio_moneda(69,sistema)"
      ],
      "metadata": {
        "id": "YEgYzUa5BuR2",
        "colab": {
          "base_uri": "https://localhost:8080/"
        },
        "outputId": "c3e81151-a5bc-4677-de0d-0d628cbded4f"
      },
      "execution_count": 8,
      "outputs": [
        {
          "output_type": "stream",
          "name": "stdout",
          "text": [
            "Sistema: [25, 10, 5, 1]\n"
          ]
        },
        {
          "output_type": "execute_result",
          "data": {
            "text/plain": [
              "{25: 2, 10: 1, 5: 1, 1: 4}"
            ]
          },
          "metadata": {},
          "execution_count": 8
        }
      ]
    },
    {
      "cell_type": "markdown",
      "source": [
        "## **Práctica individual:** Encontrar los dos puntos más cercanos\n",
        "### **Versión 1D**"
      ],
      "metadata": {
        "id": "_Pk9eqeeq6Sf"
      }
    },
    {
      "cell_type": "code",
      "source": [
        "import random\n",
        "def calcular_distancia(x,y):\n",
        "  return abs(x-y)\n",
        "\n",
        "def encontrar_puntos_mas_cercanos(valores):\n",
        "  min_index1,min_index2=0,0\n",
        "  min_dist=float(\"inf\")\n",
        "  for i in range(len(valores)):\n",
        "    for j in range(i+1,len(valores)):\n",
        "      distancia=calcular_distancia(valores[i],valores[j]) #Calculamos la distancia entre los dos valores\n",
        "      if(distancia<min_dist): # Si la distancia calculada es menor que la minima\n",
        "        min_index1,min_index2=i,j # Actualizamos los indices de la distancia minima\n",
        "        min_dist=distancia # Actualizamos el valor de la distancia minima\n",
        "  return [valores[min_index1],valores[min_index2]] # Retornamos los valores con distancia minima\n",
        "\n",
        "\n",
        "lista_1d=[random.randrange(1,10000) for x in range(1000)]\n",
        "min_vals=encontrar_puntos_mas_cercanos(lista_1d)\n",
        "print(f'Valores con distancia minima: {min_vals} , distancia: {calcular_distancia(min_vals[0],min_vals[1])}' )\n"
      ],
      "metadata": {
        "colab": {
          "base_uri": "https://localhost:8080/"
        },
        "id": "_zets7CxqMBC",
        "outputId": "7ade3028-8547-4ef8-9374-f41e2406aa28"
      },
      "execution_count": 18,
      "outputs": [
        {
          "output_type": "stream",
          "name": "stdout",
          "text": [
            "Valores con distancia minima: [5248, 5248] , distancia: 0\n"
          ]
        }
      ]
    },
    {
      "cell_type": "markdown",
      "source": [
        "### **Versión 2D**\n",
        "\n",
        "**Nota:** La función `encontrar_puntos_mas_cercanos` es exactamente la misma, lo unico que cambia es la función `calcular_distancia`"
      ],
      "metadata": {
        "id": "-V1ldrQyy2PP"
      }
    },
    {
      "cell_type": "code",
      "source": [
        "import random\n",
        "import math\n",
        "def calcular_distancia(p1,p2):\n",
        "  return math.sqrt(math.pow(p1[0]-p2[0],2)+math.pow(p1[1]-p2[1],2))\n",
        "\n",
        "\n",
        "lista_2d=[(random.randrange(1,10000),random.randrange(1,10000)) for x in range(1000)]\n",
        "min_vals=encontrar_puntos_mas_cercanos(lista_2d)\n",
        "print(f'Puntos con distancia minima: {min_vals} , distancia: {calcular_distancia(min_vals[0],min_vals[1])}' )"
      ],
      "metadata": {
        "colab": {
          "base_uri": "https://localhost:8080/"
        },
        "id": "jwEuiex8y319",
        "outputId": "57bfbaa4-f6e3-4faf-b427-0ea653fd37c7"
      },
      "execution_count": 24,
      "outputs": [
        {
          "output_type": "stream",
          "name": "stdout",
          "text": [
            "Puntos con distancia minima: [(7103, 1594), (7104, 1600)] , distancia: 6.082762530298219\n"
          ]
        }
      ]
    },
    {
      "cell_type": "markdown",
      "source": [
        "**Analisis de la complejidad**\n",
        "\n",
        "El algoritmo tiene dos bucles anidados. El bucle externo se ejecuta desde `i = 0` hasta `len(valores) - 1`, mientras que el bucle interno se ejecuta desde `j = i + 1` hasta `len(valores) - 1`. Esto implica que los bucles se ejecutan en función del tamaño de la entrada valores.\n",
        "\n",
        "El bucle externo se ejecuta aproximadamente `n` veces, donde `n` es la longitud del arreglo.\n",
        "\n",
        "El bucle interno se ejecuta en promedio `n/2` veces para cada iteración del bucle externo. A medida que n aumenta, esta diferencia se vuelve insignificante en comparación con el tamaño total de la lista.\n",
        "\n",
        "Por lo tanto, podemos decir que el algoritmo  tiene una complejidad cuadrática, es decir, `O(n^2)`, donde n es el tamaño del arreglo."
      ],
      "metadata": {
        "id": "zp4Ax22GxUuF"
      }
    }
  ]
}